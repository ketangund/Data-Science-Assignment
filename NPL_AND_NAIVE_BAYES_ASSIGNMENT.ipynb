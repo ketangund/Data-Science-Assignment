{
  "nbformat": 4,
  "nbformat_minor": 0,
  "metadata": {
    "colab": {
      "provenance": []
    },
    "kernelspec": {
      "name": "python3",
      "display_name": "Python 3"
    },
    "language_info": {
      "name": "python"
    }
  },
  "cells": [
    {
      "cell_type": "markdown",
      "source": [
        "# **1. Data Exploration and Preprocessing**"
      ],
      "metadata": {
        "id": "-uyLNqTAN6Dy"
      }
    },
    {
      "cell_type": "code",
      "source": [
        "import nltk # Natural Language Toolkit\n",
        "nltk.download('stopwords')\n",
        "nltk.download('wordnet')\n",
        "nltk.download('omw-1.4')\n",
        "import pandas as pd\n",
        "from nltk.stem import WordNetLemmatizer\n",
        "from nltk.corpus import stopwords\n",
        "from wordcloud import WordCloud, STOPWORDS\n",
        "import seaborn as sns\n",
        "import matplotlib.pyplot as plt\n",
        "import re # Regular Expression\n",
        "import warnings\n",
        "warnings.filterwarnings('ignore')\n",
        "%matplotlib inline"
      ],
      "metadata": {
        "colab": {
          "base_uri": "https://localhost:8080/"
        },
        "id": "9NK9xQsbOboY",
        "outputId": "072db374-4c1f-457e-bf82-2a6241316086"
      },
      "execution_count": 10,
      "outputs": [
        {
          "output_type": "stream",
          "name": "stderr",
          "text": [
            "[nltk_data] Downloading package stopwords to /root/nltk_data...\n",
            "[nltk_data]   Package stopwords is already up-to-date!\n",
            "[nltk_data] Downloading package wordnet to /root/nltk_data...\n",
            "[nltk_data]   Package wordnet is already up-to-date!\n",
            "[nltk_data] Downloading package omw-1.4 to /root/nltk_data...\n",
            "[nltk_data]   Package omw-1.4 is already up-to-date!\n"
          ]
        }
      ]
    },
    {
      "cell_type": "code",
      "source": [
        "# Load the dataset\n",
        "df = pd.read_csv('/content/blogs_categories.csv')"
      ],
      "metadata": {
        "id": "3JGH2mNZSEll"
      },
      "execution_count": 12,
      "outputs": []
    },
    {
      "cell_type": "code",
      "source": [
        "df"
      ],
      "metadata": {
        "colab": {
          "base_uri": "https://localhost:8080/",
          "height": 424
        },
        "id": "MJNxYAmcUpJA",
        "outputId": "6f8da1f8-5059-4fe6-a59b-63a67d549714"
      },
      "execution_count": 13,
      "outputs": [
        {
          "output_type": "execute_result",
          "data": {
            "text/plain": [
              "       Unnamed: 0                                               Data  \\\n",
              "0               0  Xref: cantaloupe.srv.cs.cmu.edu alt.atheism:49...   \n",
              "1               1  Xref: cantaloupe.srv.cs.cmu.edu alt.atheism:51...   \n",
              "2               2  Newsgroups: alt.atheism\\nPath: cantaloupe.srv....   \n",
              "3               3  Xref: cantaloupe.srv.cs.cmu.edu alt.atheism:51...   \n",
              "4               4  Xref: cantaloupe.srv.cs.cmu.edu alt.atheism:51...   \n",
              "...           ...                                                ...   \n",
              "19992       19992  Xref: cantaloupe.srv.cs.cmu.edu alt.atheism:54...   \n",
              "19993       19993  Xref: cantaloupe.srv.cs.cmu.edu alt.atheism:54...   \n",
              "19994       19994  Xref: cantaloupe.srv.cs.cmu.edu talk.religion....   \n",
              "19995       19995  Xref: cantaloupe.srv.cs.cmu.edu talk.religion....   \n",
              "19996       19996  Xref: cantaloupe.srv.cs.cmu.edu talk.abortion:...   \n",
              "\n",
              "                   Labels  \n",
              "0             alt.atheism  \n",
              "1             alt.atheism  \n",
              "2             alt.atheism  \n",
              "3             alt.atheism  \n",
              "4             alt.atheism  \n",
              "...                   ...  \n",
              "19992  talk.religion.misc  \n",
              "19993  talk.religion.misc  \n",
              "19994  talk.religion.misc  \n",
              "19995  talk.religion.misc  \n",
              "19996  talk.religion.misc  \n",
              "\n",
              "[19997 rows x 3 columns]"
            ],
            "text/html": [
              "\n",
              "  <div id=\"df-deff8bd7-a215-42ad-954d-c8d266645894\" class=\"colab-df-container\">\n",
              "    <div>\n",
              "<style scoped>\n",
              "    .dataframe tbody tr th:only-of-type {\n",
              "        vertical-align: middle;\n",
              "    }\n",
              "\n",
              "    .dataframe tbody tr th {\n",
              "        vertical-align: top;\n",
              "    }\n",
              "\n",
              "    .dataframe thead th {\n",
              "        text-align: right;\n",
              "    }\n",
              "</style>\n",
              "<table border=\"1\" class=\"dataframe\">\n",
              "  <thead>\n",
              "    <tr style=\"text-align: right;\">\n",
              "      <th></th>\n",
              "      <th>Unnamed: 0</th>\n",
              "      <th>Data</th>\n",
              "      <th>Labels</th>\n",
              "    </tr>\n",
              "  </thead>\n",
              "  <tbody>\n",
              "    <tr>\n",
              "      <th>0</th>\n",
              "      <td>0</td>\n",
              "      <td>Xref: cantaloupe.srv.cs.cmu.edu alt.atheism:49...</td>\n",
              "      <td>alt.atheism</td>\n",
              "    </tr>\n",
              "    <tr>\n",
              "      <th>1</th>\n",
              "      <td>1</td>\n",
              "      <td>Xref: cantaloupe.srv.cs.cmu.edu alt.atheism:51...</td>\n",
              "      <td>alt.atheism</td>\n",
              "    </tr>\n",
              "    <tr>\n",
              "      <th>2</th>\n",
              "      <td>2</td>\n",
              "      <td>Newsgroups: alt.atheism\\nPath: cantaloupe.srv....</td>\n",
              "      <td>alt.atheism</td>\n",
              "    </tr>\n",
              "    <tr>\n",
              "      <th>3</th>\n",
              "      <td>3</td>\n",
              "      <td>Xref: cantaloupe.srv.cs.cmu.edu alt.atheism:51...</td>\n",
              "      <td>alt.atheism</td>\n",
              "    </tr>\n",
              "    <tr>\n",
              "      <th>4</th>\n",
              "      <td>4</td>\n",
              "      <td>Xref: cantaloupe.srv.cs.cmu.edu alt.atheism:51...</td>\n",
              "      <td>alt.atheism</td>\n",
              "    </tr>\n",
              "    <tr>\n",
              "      <th>...</th>\n",
              "      <td>...</td>\n",
              "      <td>...</td>\n",
              "      <td>...</td>\n",
              "    </tr>\n",
              "    <tr>\n",
              "      <th>19992</th>\n",
              "      <td>19992</td>\n",
              "      <td>Xref: cantaloupe.srv.cs.cmu.edu alt.atheism:54...</td>\n",
              "      <td>talk.religion.misc</td>\n",
              "    </tr>\n",
              "    <tr>\n",
              "      <th>19993</th>\n",
              "      <td>19993</td>\n",
              "      <td>Xref: cantaloupe.srv.cs.cmu.edu alt.atheism:54...</td>\n",
              "      <td>talk.religion.misc</td>\n",
              "    </tr>\n",
              "    <tr>\n",
              "      <th>19994</th>\n",
              "      <td>19994</td>\n",
              "      <td>Xref: cantaloupe.srv.cs.cmu.edu talk.religion....</td>\n",
              "      <td>talk.religion.misc</td>\n",
              "    </tr>\n",
              "    <tr>\n",
              "      <th>19995</th>\n",
              "      <td>19995</td>\n",
              "      <td>Xref: cantaloupe.srv.cs.cmu.edu talk.religion....</td>\n",
              "      <td>talk.religion.misc</td>\n",
              "    </tr>\n",
              "    <tr>\n",
              "      <th>19996</th>\n",
              "      <td>19996</td>\n",
              "      <td>Xref: cantaloupe.srv.cs.cmu.edu talk.abortion:...</td>\n",
              "      <td>talk.religion.misc</td>\n",
              "    </tr>\n",
              "  </tbody>\n",
              "</table>\n",
              "<p>19997 rows × 3 columns</p>\n",
              "</div>\n",
              "    <div class=\"colab-df-buttons\">\n",
              "\n",
              "  <div class=\"colab-df-container\">\n",
              "    <button class=\"colab-df-convert\" onclick=\"convertToInteractive('df-deff8bd7-a215-42ad-954d-c8d266645894')\"\n",
              "            title=\"Convert this dataframe to an interactive table.\"\n",
              "            style=\"display:none;\">\n",
              "\n",
              "  <svg xmlns=\"http://www.w3.org/2000/svg\" height=\"24px\" viewBox=\"0 -960 960 960\">\n",
              "    <path d=\"M120-120v-720h720v720H120Zm60-500h600v-160H180v160Zm220 220h160v-160H400v160Zm0 220h160v-160H400v160ZM180-400h160v-160H180v160Zm440 0h160v-160H620v160ZM180-180h160v-160H180v160Zm440 0h160v-160H620v160Z\"/>\n",
              "  </svg>\n",
              "    </button>\n",
              "\n",
              "  <style>\n",
              "    .colab-df-container {\n",
              "      display:flex;\n",
              "      gap: 12px;\n",
              "    }\n",
              "\n",
              "    .colab-df-convert {\n",
              "      background-color: #E8F0FE;\n",
              "      border: none;\n",
              "      border-radius: 50%;\n",
              "      cursor: pointer;\n",
              "      display: none;\n",
              "      fill: #1967D2;\n",
              "      height: 32px;\n",
              "      padding: 0 0 0 0;\n",
              "      width: 32px;\n",
              "    }\n",
              "\n",
              "    .colab-df-convert:hover {\n",
              "      background-color: #E2EBFA;\n",
              "      box-shadow: 0px 1px 2px rgba(60, 64, 67, 0.3), 0px 1px 3px 1px rgba(60, 64, 67, 0.15);\n",
              "      fill: #174EA6;\n",
              "    }\n",
              "\n",
              "    .colab-df-buttons div {\n",
              "      margin-bottom: 4px;\n",
              "    }\n",
              "\n",
              "    [theme=dark] .colab-df-convert {\n",
              "      background-color: #3B4455;\n",
              "      fill: #D2E3FC;\n",
              "    }\n",
              "\n",
              "    [theme=dark] .colab-df-convert:hover {\n",
              "      background-color: #434B5C;\n",
              "      box-shadow: 0px 1px 3px 1px rgba(0, 0, 0, 0.15);\n",
              "      filter: drop-shadow(0px 1px 2px rgba(0, 0, 0, 0.3));\n",
              "      fill: #FFFFFF;\n",
              "    }\n",
              "  </style>\n",
              "\n",
              "    <script>\n",
              "      const buttonEl =\n",
              "        document.querySelector('#df-deff8bd7-a215-42ad-954d-c8d266645894 button.colab-df-convert');\n",
              "      buttonEl.style.display =\n",
              "        google.colab.kernel.accessAllowed ? 'block' : 'none';\n",
              "\n",
              "      async function convertToInteractive(key) {\n",
              "        const element = document.querySelector('#df-deff8bd7-a215-42ad-954d-c8d266645894');\n",
              "        const dataTable =\n",
              "          await google.colab.kernel.invokeFunction('convertToInteractive',\n",
              "                                                    [key], {});\n",
              "        if (!dataTable) return;\n",
              "\n",
              "        const docLinkHtml = 'Like what you see? Visit the ' +\n",
              "          '<a target=\"_blank\" href=https://colab.research.google.com/notebooks/data_table.ipynb>data table notebook</a>'\n",
              "          + ' to learn more about interactive tables.';\n",
              "        element.innerHTML = '';\n",
              "        dataTable['output_type'] = 'display_data';\n",
              "        await google.colab.output.renderOutput(dataTable, element);\n",
              "        const docLink = document.createElement('div');\n",
              "        docLink.innerHTML = docLinkHtml;\n",
              "        element.appendChild(docLink);\n",
              "      }\n",
              "    </script>\n",
              "  </div>\n",
              "\n",
              "\n",
              "<div id=\"df-bfcc3ee5-d32f-4a7a-816b-5448fa33a2af\">\n",
              "  <button class=\"colab-df-quickchart\" onclick=\"quickchart('df-bfcc3ee5-d32f-4a7a-816b-5448fa33a2af')\"\n",
              "            title=\"Suggest charts\"\n",
              "            style=\"display:none;\">\n",
              "\n",
              "<svg xmlns=\"http://www.w3.org/2000/svg\" height=\"24px\"viewBox=\"0 0 24 24\"\n",
              "     width=\"24px\">\n",
              "    <g>\n",
              "        <path d=\"M19 3H5c-1.1 0-2 .9-2 2v14c0 1.1.9 2 2 2h14c1.1 0 2-.9 2-2V5c0-1.1-.9-2-2-2zM9 17H7v-7h2v7zm4 0h-2V7h2v10zm4 0h-2v-4h2v4z\"/>\n",
              "    </g>\n",
              "</svg>\n",
              "  </button>\n",
              "\n",
              "<style>\n",
              "  .colab-df-quickchart {\n",
              "      --bg-color: #E8F0FE;\n",
              "      --fill-color: #1967D2;\n",
              "      --hover-bg-color: #E2EBFA;\n",
              "      --hover-fill-color: #174EA6;\n",
              "      --disabled-fill-color: #AAA;\n",
              "      --disabled-bg-color: #DDD;\n",
              "  }\n",
              "\n",
              "  [theme=dark] .colab-df-quickchart {\n",
              "      --bg-color: #3B4455;\n",
              "      --fill-color: #D2E3FC;\n",
              "      --hover-bg-color: #434B5C;\n",
              "      --hover-fill-color: #FFFFFF;\n",
              "      --disabled-bg-color: #3B4455;\n",
              "      --disabled-fill-color: #666;\n",
              "  }\n",
              "\n",
              "  .colab-df-quickchart {\n",
              "    background-color: var(--bg-color);\n",
              "    border: none;\n",
              "    border-radius: 50%;\n",
              "    cursor: pointer;\n",
              "    display: none;\n",
              "    fill: var(--fill-color);\n",
              "    height: 32px;\n",
              "    padding: 0;\n",
              "    width: 32px;\n",
              "  }\n",
              "\n",
              "  .colab-df-quickchart:hover {\n",
              "    background-color: var(--hover-bg-color);\n",
              "    box-shadow: 0 1px 2px rgba(60, 64, 67, 0.3), 0 1px 3px 1px rgba(60, 64, 67, 0.15);\n",
              "    fill: var(--button-hover-fill-color);\n",
              "  }\n",
              "\n",
              "  .colab-df-quickchart-complete:disabled,\n",
              "  .colab-df-quickchart-complete:disabled:hover {\n",
              "    background-color: var(--disabled-bg-color);\n",
              "    fill: var(--disabled-fill-color);\n",
              "    box-shadow: none;\n",
              "  }\n",
              "\n",
              "  .colab-df-spinner {\n",
              "    border: 2px solid var(--fill-color);\n",
              "    border-color: transparent;\n",
              "    border-bottom-color: var(--fill-color);\n",
              "    animation:\n",
              "      spin 1s steps(1) infinite;\n",
              "  }\n",
              "\n",
              "  @keyframes spin {\n",
              "    0% {\n",
              "      border-color: transparent;\n",
              "      border-bottom-color: var(--fill-color);\n",
              "      border-left-color: var(--fill-color);\n",
              "    }\n",
              "    20% {\n",
              "      border-color: transparent;\n",
              "      border-left-color: var(--fill-color);\n",
              "      border-top-color: var(--fill-color);\n",
              "    }\n",
              "    30% {\n",
              "      border-color: transparent;\n",
              "      border-left-color: var(--fill-color);\n",
              "      border-top-color: var(--fill-color);\n",
              "      border-right-color: var(--fill-color);\n",
              "    }\n",
              "    40% {\n",
              "      border-color: transparent;\n",
              "      border-right-color: var(--fill-color);\n",
              "      border-top-color: var(--fill-color);\n",
              "    }\n",
              "    60% {\n",
              "      border-color: transparent;\n",
              "      border-right-color: var(--fill-color);\n",
              "    }\n",
              "    80% {\n",
              "      border-color: transparent;\n",
              "      border-right-color: var(--fill-color);\n",
              "      border-bottom-color: var(--fill-color);\n",
              "    }\n",
              "    90% {\n",
              "      border-color: transparent;\n",
              "      border-bottom-color: var(--fill-color);\n",
              "    }\n",
              "  }\n",
              "</style>\n",
              "\n",
              "  <script>\n",
              "    async function quickchart(key) {\n",
              "      const quickchartButtonEl =\n",
              "        document.querySelector('#' + key + ' button');\n",
              "      quickchartButtonEl.disabled = true;  // To prevent multiple clicks.\n",
              "      quickchartButtonEl.classList.add('colab-df-spinner');\n",
              "      try {\n",
              "        const charts = await google.colab.kernel.invokeFunction(\n",
              "            'suggestCharts', [key], {});\n",
              "      } catch (error) {\n",
              "        console.error('Error during call to suggestCharts:', error);\n",
              "      }\n",
              "      quickchartButtonEl.classList.remove('colab-df-spinner');\n",
              "      quickchartButtonEl.classList.add('colab-df-quickchart-complete');\n",
              "    }\n",
              "    (() => {\n",
              "      let quickchartButtonEl =\n",
              "        document.querySelector('#df-bfcc3ee5-d32f-4a7a-816b-5448fa33a2af button');\n",
              "      quickchartButtonEl.style.display =\n",
              "        google.colab.kernel.accessAllowed ? 'block' : 'none';\n",
              "    })();\n",
              "  </script>\n",
              "</div>\n",
              "\n",
              "  <div id=\"id_9e56f029-a9ec-44be-9af2-c7eba4ddd322\">\n",
              "    <style>\n",
              "      .colab-df-generate {\n",
              "        background-color: #E8F0FE;\n",
              "        border: none;\n",
              "        border-radius: 50%;\n",
              "        cursor: pointer;\n",
              "        display: none;\n",
              "        fill: #1967D2;\n",
              "        height: 32px;\n",
              "        padding: 0 0 0 0;\n",
              "        width: 32px;\n",
              "      }\n",
              "\n",
              "      .colab-df-generate:hover {\n",
              "        background-color: #E2EBFA;\n",
              "        box-shadow: 0px 1px 2px rgba(60, 64, 67, 0.3), 0px 1px 3px 1px rgba(60, 64, 67, 0.15);\n",
              "        fill: #174EA6;\n",
              "      }\n",
              "\n",
              "      [theme=dark] .colab-df-generate {\n",
              "        background-color: #3B4455;\n",
              "        fill: #D2E3FC;\n",
              "      }\n",
              "\n",
              "      [theme=dark] .colab-df-generate:hover {\n",
              "        background-color: #434B5C;\n",
              "        box-shadow: 0px 1px 3px 1px rgba(0, 0, 0, 0.15);\n",
              "        filter: drop-shadow(0px 1px 2px rgba(0, 0, 0, 0.3));\n",
              "        fill: #FFFFFF;\n",
              "      }\n",
              "    </style>\n",
              "    <button class=\"colab-df-generate\" onclick=\"generateWithVariable('df')\"\n",
              "            title=\"Generate code using this dataframe.\"\n",
              "            style=\"display:none;\">\n",
              "\n",
              "  <svg xmlns=\"http://www.w3.org/2000/svg\" height=\"24px\"viewBox=\"0 0 24 24\"\n",
              "       width=\"24px\">\n",
              "    <path d=\"M7,19H8.4L18.45,9,17,7.55,7,17.6ZM5,21V16.75L18.45,3.32a2,2,0,0,1,2.83,0l1.4,1.43a1.91,1.91,0,0,1,.58,1.4,1.91,1.91,0,0,1-.58,1.4L9.25,21ZM18.45,9,17,7.55Zm-12,3A5.31,5.31,0,0,0,4.9,8.1,5.31,5.31,0,0,0,1,6.5,5.31,5.31,0,0,0,4.9,4.9,5.31,5.31,0,0,0,6.5,1,5.31,5.31,0,0,0,8.1,4.9,5.31,5.31,0,0,0,12,6.5,5.46,5.46,0,0,0,6.5,12Z\"/>\n",
              "  </svg>\n",
              "    </button>\n",
              "    <script>\n",
              "      (() => {\n",
              "      const buttonEl =\n",
              "        document.querySelector('#id_9e56f029-a9ec-44be-9af2-c7eba4ddd322 button.colab-df-generate');\n",
              "      buttonEl.style.display =\n",
              "        google.colab.kernel.accessAllowed ? 'block' : 'none';\n",
              "\n",
              "      buttonEl.onclick = () => {\n",
              "        google.colab.notebook.generateWithVariable('df');\n",
              "      }\n",
              "      })();\n",
              "    </script>\n",
              "  </div>\n",
              "\n",
              "    </div>\n",
              "  </div>\n"
            ],
            "application/vnd.google.colaboratory.intrinsic+json": {
              "type": "dataframe",
              "variable_name": "df",
              "summary": "{\n  \"name\": \"df\",\n  \"rows\": 19997,\n  \"fields\": [\n    {\n      \"column\": \"Unnamed: 0\",\n      \"properties\": {\n        \"dtype\": \"number\",\n        \"std\": 5772,\n        \"min\": 0,\n        \"max\": 19996,\n        \"num_unique_values\": 19997,\n        \"samples\": [\n          10747,\n          4949,\n          3352\n        ],\n        \"semantic_type\": \"\",\n        \"description\": \"\"\n      }\n    },\n    {\n      \"column\": \"Data\",\n      \"properties\": {\n        \"dtype\": \"string\",\n        \"num_unique_values\": 19466,\n        \"samples\": [\n          \"Xref: cantaloupe.srv.cs.cmu.edu soc.religion.christian:21662\\nPath: cantaloupe.srv.cs.cmu.edu!das-news.harvard.edu!noc.near.net!howland.reston.ans.net!agate!ames!pacbell.com!att-out!rutgers!igor.rutgers.edu!geneva.rutgers.edu!christian\\nFrom: af664@yfn.ysu.edu (Frank DeCenso, Jr.)\\nNewsgroups: soc.religion.christian\\nSubject: Re: _Christianity In Crisis_\\nMessage-ID: <May.18.00.54.53.1993.9551@geneva.rutgers.edu>\\nDate: 18 May 93 04:54:54 GMT\\nSender: hedrick@geneva.rutgers.edu\\nOrganization: Youngstown State/Youngstown Free-Net\\nLines: 371\\nApproved: christian@aramis.rutgers.edu\\n\\nFrom Bit.listserv.christia\\n\\nZane writes...\\n \\nFrom: FACN34B@SAUPM00.BITNET (zane of dhahan)\\n>Newsgroups: bit.listserv.christia\\nSubject: Christianity in Crisis\\nDate: Wed May 12 14:43:19 1993\\n \\n\\\"Frank, first of all, thanks for all of the great Scripture verses.  It\\nwas a pleasure to read them.\\\"\\n \\nMY REPLY...\\nYou are welcome, Zane.\\n \\nZane...\\n\\\"I am sure nothing that I will say will change your mind about it... but I\\nwould like to ask you if the book in question really does anything for you.\\nI mean, were you all caught up in the word/faith thing, but now that you\\nhave read the book you've been rescued from all of the error and pain that\\nwill result in your Christian life?\\\"\\n \\nMY REPLY...\\n(1) When I first became a Christian, I entered into the Word/Faith\\n    movement.  It was easy.  I wasn't grounded in the Word of God and sound\\n    doctrine.  When I visited Christian book stores, the cheapest books I\\n    could find to buy were the .50 and $1.00 books by Hagin and others.\\n    Consequently, I began receiving Hagin's monthly magazine (and they\\n    still send it to me), and also Copeland's (also, still sent to me).\\n    It wasn't until I read a booklet by Jimmy Swaggart called _Hyper Faith:\\n    The New Gnosticism_ that I began to realize the teachings I were\\n    partaking of were error.  I started reading the Bible more and studying\\n    more.  Sure enough, Jimmy was right in many points.  As part of my\\n    experience, I am alerting Christians, particularly new Christians, that\\n    these teachings are heretical and they need to do as the Bereans did in\\n    Acts 17:11 - check these teachings out with Scripture!\\n \\n(2) My brother in law was involved in a Word/Faith \\\"cult\\\" in my area - it's\\n    leader is real good friends with Benny Hinn.  Rather then going into\\n    much detail about this, suffice it to say he was deceived, mistreated, and\\n    has now fallen into atheism.  I'm still praying for him (Phil. 1:6).\\n \\n(3) The assistant pastor at the church I teach adult Sunday School in has been\\n    a `follower' of Copeland for 15 years.  He has thousands of tapes by the\\n    Faith teachers.  In the class recently, I quoted several of the teachers'\\n    heretical statements to his surprise.  Since then, I've been able to talk\\n    to him at length about these issues.\\n \\n(4) The leader of the Women's Group at my church is a Benny Hinn `fan'.\\n    Recently, I found that she has been lending _Good Morning, Holy Spirit_ to\\n    women in the church.  That prompted my quotes in Sunday School, as well as\\n    my lending CIC to people in the church.\\n \\nI'm well aware of the abuses and heresies perpetrated in this movement and\\nhave an urgency in my heart and life to warn people about the heresies.\\nWhat heresies?\\n    A. Jesus became sin - took on the very nature of the devil, and became\\n        one with him.\\n    B. Jesus' death on the cross wasn't enough to atone.\\n    C. Jesus was dragged to hell after His death, was beat and abused by\\n        Satan and demons, thus finishing our atonement.  Satan was ruling\\n        over Him there.\\n    D. Jesus was `born-again' in hell.\\n    E. Jesus died spiritually, lost His divinity, and reassumed it after\\n        the resurrection.\\n    F. We are gods.\\n \\nThese are heresies.  Documentation will be provided re: these teachings\\nupon request.\\n \\nZane...\\n\\\"Or what does it do for you?  Is it preventing you from going out and\\njoining up with the word/faith movement which you'd been contemplating\\njoining for so long, but now that you've read the book, you've been saved\\nfrom all of that?\\\"\\n \\nMY REPLY...\\nIt wasn't _Christianity In Crisis_ that helped me; it was a booklet by\\nSwaggart that I mentioned above.  But CIC is MUCH, MUCH better - tremendous\\ndocumentation and insights.\\n \\nZane...\\n\\\"I don't have a nice Scriptural answer for why I believe it is at best un-\\nprofitable for Christians to engage in this type of activity - heresy hunting.\\\"\\n \\nMY REPLY...\\nWhy do you call it \\\"heresy hunting\\\"?  \\\"Hunting\\\" implies it isn't readily\\naccessible or available.  This movement is the fastest growing movement in\\nChristendom.  Hagin has sold over 40 million books and booklets.  Hinn has sold\\nmore books in the last couple of years than Swindoll and Dobson combined.  Fred\\nPrice has the largest church in terms of seating capacity in the USA.  Doesn't\\nsound like much \\\"hunting\\\" is needed.\\n \\nIt is Scriptural to expose doctrinal error.  I gave some verses to you before.\\nMore can be given.  Most of the epistles were written due to error (doctrinal,\\npractical) in the churches.  The early church had numerous councils to expose\\nerror and heresy.  It's not a new thing.  Remember Luther?\\n \\nZane...\\n\\\"I would like to point out though, that historically those who hunt heretics\\noften end up causing a bigger mess than the heretics... but this is my un-\\ndocumented opinion.\\\"\\n \\nMY REPLY...\\n(1) If you can provide documentation, it would be appreciated.\\n(2) Read Ephesians 4:11-16, esp. vss. 13 and 14 and tell me what causes\\n    disunity and immaturity in the body.\\n \\nEPH 4:13-14 till we all come to the unity of the faith and of the knowledge of\\nthe Son of God, to a perfect man, to the measure of the stature of the fullness\\nof Christ; that we should no longer be children, tossed to and fro and carried\\nabout with every wind of doctrine, by the trickery of men, in the cunning\\ncraftiness of deceitful plotting....\\n \\nDisunity, contrary to popular opinion, isn't caused by exposing error; it's\\ncaused by error.\\n \\nZane...\\n\\\"There are many who probably give no place for seeing the Scriptures as\\ndocumenting a Spiritual development or growth in its writers - but I would\\nsuggest that the fiery Paul of the letter to the Galatians mellows and\\nmatures into the one who loses all for the sake of Love in the End.\\\"\\n \\nMY REPLY...\\nMost scholars believe Paul wrote 2 Timothy last.  Let's examine his admonitions\\nto Tim to ascertain how mellow he had become...\\n \\n2TI 1:13-15 Hold fast the pattern of sound words which you have heard from me,\\nin faith and love which are in Christ Jesus. That good thing which was\\ncommitted to you, keep by the Holy Spirit who dwells in us. This you know, that\\nall those in Asia have turned away from me, among whom are Phygellus and\\nHermogenes.\\n \\n2TI 2:15-18 Be diligent to present yourself approved to God, a worker who does\\nnot need to be ashamed, rightly dividing the word of truth. But shun profane\\nand idle babblings, for they will increase to more ungodliness. And their\\nmessage will spread like cancer. Hymenaeus and Philetus are of this sort, who\\nhave strayed concerning the truth, saying that the resurrection is already\\npast; and they overthrow the faith of some.\\n \\n2TI 2:24-26 And a servant of the Lord must not quarrel but be gentle to all,\\nable to teach, patient, in humility correcting those who are in opposition, if\\nGod perhaps will grant them repentance, so that they may know the truth, and\\nthat they may come to their senses and escape the snare of the devil, having\\nbeen taken captive by him to do his will.\\n \\n2TI 3:6-9 For of this sort are those who creep into households and make\\ncaptives of gullible women loaded down with sins, led away by various lusts,\\nalways learning and never able to come to the knowledge of the truth. Now as\\nJannes and Jambres resisted Moses, so do these also resist the truth: men of\\ncorrupt minds, disapproved concerning the faith; but they will progress no\\nfurther, for their folly will be manifest to all, as theirs also was.\\n \\n2TI 3:12-17 Yes, and all who desire to live godly in Christ Jesus will suffer\\npersecution. But evil men and impostors will grow worse and worse, deceiving\\nand being deceived. But you must continue in the things which you have learned\\nand been assured of, knowing from whom you have learned them, and that from\\nchildhood you have known the Holy Scriptures, which are able to make you wise\\nfor salvation through faith which is in Christ Jesus. All Scripture is given by\\ninspiration of God, and is profitable for doctrine, for reproof, for\\ncorrection, for instruction in righteousness, that the man of God may be\\ncomplete, thoroughly equipped for every good work.\\n \\n2TI 4:2-5 Preach the word! Be ready in season and out of season. Convince,\\nrebuke, exhort, with all longsuffering and teaching. For the time will come\\nwhen they will not endure sound doctrine, but according to their own desires,\\nbecause they have itching ears, they will heap up for themselves teachers; and\\nthey will turn their ears away from the truth, and be turned aside to fables.\\nBut you be watchful in all things, endure afflictions, do the work of an\\nevangelist, fulfill your ministry.\\n \\n2TI 4:14-15 Alexander the coppersmith did me much harm. May the Lord repay him\\naccording to his works. You also must beware of him, for he has greatly\\nresisted our words.\\n \\nZane...\\n\\\"The picture I have of Paul is not of one who goes out of his way to destroy\\nthe ministry of wolves... but of one who teaches the sheep, with many tears,\\nthe necessity of absolutely not allowing themselves to be transformed into\\nwolves to protect themselves.\\\"\\n \\nMY REPLY...\\nACT 20:26-31 \\\"Therefore I testify to you this day that I am innocent of the\\nblood of all men. \\\"For I have not shunned to declare to you the whole counsel\\nof God. \\\"Therefore take heed to yourselves and to all the flock, among which\\nthe Holy Spirit has made you overseers, to shepherd the church of God which He\\npurchased with His own blood. \\\"For I know this, that after my departure savage\\nwolves will come in among you, not sparing the flock. \\\"Also from among\\nyourselves men will rise up, speaking perverse things, to draw away the\\ndisciples after themselves. \\\"Therefore watch, and remember that for three years\\nI did not cease to warn everyone night and day with tears.\\n \\nZane...\\n\\\"For all the warning Paul does, it is of note that he never once drops a name\\nof a wolf....  - but I will admit he cries in his beard at the end over those\\nwho have abandoned him - everyone in Asia wasn't it ?\\\"\\n \\nMY REPLY...\\nPaul mentioned names...\\n \\n1TI 1:18-20 This charge I commit to you, son Timothy, according to the\\nprophecies previously made concerning you, that by them you may wage the good\\nwarfare, having faith and a good conscience, which some having rejected,\\nconcerning the faith have suffered shipwreck, of whom are Hymenaeus and\\nAlexander, whom I delivered to Satan that they may learn not to blaspheme.\\n \\n2TI 1:15 This you know, that all those in Asia have turned away from me, among\\nwhom are Phygellus and Hermogenes.\\n \\n2TI 2:16-18 But shun profane and idle babblings, for they will increase to more\\nungodliness. And their message will spread like cancer. Hymenaeus and Philetus\\nare of this sort, who have strayed concerning the truth, saying that the\\nresurrection is already past; and they overthrow the faith of some.\\n \\n2TI 4:10 for Demas has forsaken me, having loved this present world, and has\\ndeparted for Thessalonica--Crescens for Galatia, Titus for Dalmatia.\\n \\n2TI 4:14-15 Alexander the coppersmith did me much harm. May the Lord repay him\\naccording to his works. You also must beware of him, for he has greatly\\nresisted our words.\\n \\nSo did John...\\n \\n3JO 1:9-10 I wrote to the church, but Diotrephes, who loves to have the\\npreeminence among them, does not receive us. Therefore, if I come, I will call\\nto mind his deeds which he does, prating against us with malicious words. And\\nnot content with that, he himself does not receive the brethren, and forbids\\nthose who wish to, putting them out of the church.\\n \\nJesus also singled out teachings and doctrines...\\n \\nREV 2:14-16 \\\"But I have a few things against you, because you have there those\\nwho hold the doctrine of Balaam, who taught Balak to put a stumbling block\\nbefore the children of Israel, to eat things sacrificed to idols, and to commit\\nsexual immorality. \\\"Thus you also have those who hold the doctrine of the\\nNicolaitans, which thing I hate. 'Repent, or else I will come to you quickly\\nand will fight against them with the sword of My mouth.\\n \\nREV 2:20-23 \\\"Nevertheless I have a few things against you, because you allow\\nthat woman Jezebel, who calls herself a prophetess, to teach and seduce My\\nservants to commit sexual immorality and eat things sacrificed to idols. \\\"And I\\ngave her time to repent of her sexual immorality, and she did not repent.\\n\\\"Indeed I will cast her into a sickbed, and those who commit adultery with her\\ninto great tribulation, unless they repent of their deeds. \\\"I will kill her\\nchildren with death, and all the churches shall know that I am He who searches\\nthe minds and hearts. And I will give to each one of you according to your\\nworks.\\n \\nZane...\\n\\\"I question too, the purposes of those who write books and build ministries\\non the faults - deliberate or otherwise - of others.  Maybe if they would\\nwander around in the desert eating locust and honey, or barely cakes...with\\nno worldly goods at stake, money to be made, or no reputations to maintain...\\nI would question their motives - conscious or otherwise - less.\\\"\\n \\nMY REPLY...\\nI won't comment on this because it deals with the intangible motives of others.\\nBut even if they had bad motives, remember what Paul said...\\n \\nPHI 1:15-18 Some indeed preach Christ even from envy and strife, and some also\\nfrom good will: The former preach Christ from selfish ambition, not sincerely,\\nsupposing to add affliction to my chains; but the latter out of love, knowing\\nthat I am appointed for the defense of the gospel. What then? Only that in\\nevery way, whether in pretense or in truth, Christ is preached; and in this I\\nrejoice, yes, and will rejoice.\\n \\nZane...\\n\\\"If we want to be true to the admonitions of Scripture - many of which you\\nlist - about protecting ourselves and the flock from wolves and winds of\\ndoctrines, I suggest we start by allowing the wolf-program in our own noetic\\npasture to be nailed to the Cross.\\\"\\n \\nMY REPLY...\\nPlease explain.\\n \\nZane...\\n\\\"Secondly, I suggest any heresy hunting be restricted to our own fellowships -\\nwhich in the strict Scriptural sense is the local city-church.\\\"\\n \\nMY REPLY...\\nIf heresy was not being propagated over the mass media, then it may not be\\nneeded to go mass media with the exposure.  Unfortunately, heresy is being\\ntaught not just in Copeland's church or Hagin's or Hinn's or Price's, but all\\nover the radio, in print, etc.  No pastor or church leader knows what materials\\nthe sheep are feeding on outside the church.  It's imperative that leadership\\nbe made aware of this, and CIC does just that.\\n \\nAlso, let's examine a passage of Scripture...\\n* EPH 4:11 And He Himself gave some to be apostles, some prophets, some\\nevangelists, and some pastors and teachers,\\n* EPH 4:12 for the equipping of the saints for the work of ministry, for the\\nedifying of the body of Christ,\\n \\nThese ministry gifts that the Lord installs in the church are not just for one\\nindividual church, but for \\\"the body of Christ\\\".\\nPaul was an apostle - he traveled all over distilling his message.  He was also\\na teacher -\\n1CO 4:17 For this reason I have sent Timothy to you, who is my beloved and\\nfaithful son in the Lord, who will remind you of my ways in Christ, as I teach\\neverywhere in every church.\\n1CO 7:17 But as God has distributed to each one, as the Lord has called each\\none, so let him walk. And so I ordain in all the churches.\\n \\nAlso -\\n1CO 12:28 And God has appointed these in the church: first apostles, second\\nprophets, third teachers, after that miracles, then gifts of healings, helps,\\nadministrations, varieties of tongues.\\n \\n* EPH 4:13 till we all come to the unity of the faith and of the knowledge of\\nthe Son of God, to a perfect man, to the measure of the stature of the fullness\\nof Christ;\\n \\nNotice that the \\\"Five-Fold\\\" ministries are going to be around \\\"till\\\" the church\\nis in \\\"unity of the faith and of the knowledge of the Son of God to a perfect\\nman\\\".  This, I believe will not occur fully until the Lord Jesus returns (see\\n1Cor. 13:9-12).  But God wants the body to continue on maturing.  What hinders\\nmaturity and unity of the body?\\n \\n* EPH 4:14 that we should no longer be children, tossed to and fro and carried\\nabout with every wind of doctrine, by the trickery of men, in the cunning\\ncraftiness of deceitful plotting,\\n \\nIt's clear that false doctrine, integrated into the church \\\"by the trickery of\\nmen\\\" causes (1) disunity [the thing we are striving for] and (2) spiritual\\nimmaturity - the church continues in spiritual childhood when Christians are\\n\\\"tossed to and fro and carried about with every wind of doctrine\\\".\\n \\nThe \\\"Five -Fold\\\" ministry, of which there does not appear to be clear\\nScriptural denominational boundaries (\\\"pastors\\\" appear responsible for their\\nindividual flock), is to deal with these doctrines (when necessary) in their\\nstruggle to equip the body.\\n \\nAll believers are called to do this to a degree...\\nJUD 1:3-4 Beloved, while I was very diligent to write to you concerning our\\ncommon salvation, I found it necessary to write to you exhorting you to contend\\nearnestly for the faith which was once for all delivered to the saints. For\\ncertain men have crept in unnoticed, who long ago were marked out for this\\ncondemnation, ungodly men, who turn the grace of our God into lewdness and deny\\nthe only Lord God and our Lord Jesus Christ.\\n \\nZane...\\n\\\"If you'll notice, in Scripture the heresy hunters that went from Church to\\nChurch and area to area, were the \\\"bad guys\\\" and they went after the \\\"good guy\\\"\\nnamely Paul - who they considered to be the arch heretic.\\\"\\n \\nMY REPLY...\\nThey were themselves heretics trying to discredit Paul who was preaching\\ncontrary to what they taught!\\n \\nZane...\\n\\\"Let's face it, the wolves are here for a reason.  And we are here for the\\nReason.  And let's hope the wolves become sheep, and the sheep, lambs.\\\"\\n \\nMY REPLY...\\nYes!\\n2TI 2:24-26 And a servant of the Lord must not quarrel but be gentle to all,\\n                                                           ~~~~~~~~~~~~~~~~\\nable to teach, patient, in humility correcting those who are in opposition, if\\n~~~~~~~~~~~~~~~~~~~~~~~~~~~~~~~~~~~~~~~~~~~~~~~~~~~~~~~~~~~~~~~~~~~~~~~~~~  ~~\\nGod perhaps will grant them repentance, so that they may know the truth, and\\n~~~~~~~~~~~~~~~~~~~~~~~~~~~~~~~~~~~~~~\\nthat they may come to their senses and escape the snare of the devil, having\\nbeen taken captive by him to do his will.\\n \\nAMEN!\\n\\n\\nFrank\\n-- \\n\\\"If one wished to contend with Him, he could not answer Him one time out\\n of a thousand.\\\"  JOB 9:3\\n\",\n          \"Path: cantaloupe.srv.cs.cmu.edu!crabapple.srv.cs.cmu.edu!bb3.andrew.cmu.edu!news.sei.cmu.edu!cis.ohio-state.edu!zaphod.mps.ohio-state.edu!howland.reston.ans.net!agate!dog.ee.lbl.gov!network.ucsd.edu!munnari.oz.au!goanna!escargot!minyos.xx.rmit.OZ.AU!s872505\\nFrom: s872505@minyos.xx.rmit.OZ.AU (Stephen Bokor)\\nNewsgroups: comp.sys.ibm.pc.hardware\\nSubject: Re: A: DRIVE WON'T BOOT\\nMessage-ID: <1r2h10INNh3l@escargot.xx.rmit.OZ.AU>\\nDate: 21 Apr 93 04:02:40 GMT\\nReferences: <120922@netnews.upenn.edu>\\nOrganization: Royal Melbourne Institute of Technology\\nLines: 36\\nNNTP-Posting-Host: minyos.xx.rmit.oz.au\\n\\nbalog@eniac.seas.upenn.edu (Eric J Balog) writes:\\n\\n>Hi!\\n\\n>I recently switched my 3.5\\\" drive to A:. The problem is, while I can read and\\n>write to both the new A: and B: correctly, I can't boot from a floppy in A:.\\n>I've checked the CMOS settings; it is set for Floppy Seek at Boot and Boot \\n>Order A:,C:. \\n\\n>Once, I had a floppy that did not have the systems files on it in A:. I got a\\n>message telling me to put a disk systems disk in the drive. It didn't work.\\n>When I do have a systems disk in the A: drive, this is what happens:\\n>1) Power-on and Memory Test;\\n>2) A: light comes on\\n>3) B: light comes on, followed by a short beep;\\n>4) HD light comes on for an instant;\\n>5) B: light comes on again, then nothing happens\\n\\n>The light goes off, there is no disk activity of any kind, and the screen \\n>blanks. I can't even use ctrl-alt-del.\\n\\n>Any suggestions.\\n\\nHave you checked: 1/ The setting of drive A: to 1.44 M floppy.\\n\\t\\t\\t\\t\\t\\t2/ The setting of drive B: to 1.2 M foppy.\\n\\t\\t\\t\\t\\t\\t3/ The cable connecting the two drives to\\n\\t\\t\\t\\t\\t\\tthe controller card (I can't remember which\\n\\t\\t\\t\\t\\t\\ttwo wires are swapped, but they determine\\n\\t\\t\\t\\t\\t\\twhich is drive A: & b:).\\n\\nI hope this is of some help :-)\\n\\n\\nSteve\\n\\ns872505@minyos.xx.oz.au\\n\",\n          \"Path: cantaloupe.srv.cs.cmu.edu!das-news.harvard.edu!noc.near.net!howland.reston.ans.net!ira.uka.de!news.dfn.de!mailgzrz.TU-Berlin.DE!news.netmbx.de!Germany.EU.net!rz.uni-hildesheim.de!agsc!erni.escape.de!s-link.escape.de!kwgeitz\\nFrom: kwgeitz@s-link.escape.de (Karl-W. Geitz)\\nNewsgroups: comp.os.ms-windows.misc\\nSubject: Re: Data segments and memory model usage\\nMessage-ID: <50phS3ykPo@s-link.escape.de>\\nOrganization: -S-LINK-> Public Mailbox, Braunschweig, Germany\\nDate: Fri, 14 May 1993 19:24:00 +0200\\nLines: 36\\n\\nHello phjm, you wrote:\\n\\n> Firstly, does Windows 3.1 in 386 enhanced mode do anything special\\n> with DLLs that have been compiled using the large memory model?\\n\\nNo.\\n\\n> We are being told that even in 386 enhanced mode Windows\\n> will load DLLs into *real memory below 640K* and page-lock it.\\n\\nNo.\\n\\n> My second question relates to static data inside DLLs. Is there\\n> any way at all to get multiple instances of the static data\\n> segment (DGROUP?)?\\n\\nNo, but...\\n\\nYou can allocate real static data within code segments!\\nWhen you need more dynamic memory you can allocate data on the global heap.\\n\\nYou can forget most of what was written about memory management. Under 3.1\\nyou have paged virtual memory. You can lock every block without hampering\\nthe memory manager. You can use far pointer everytime without always Lock/\\nUnlocking the memory block.\\n\\nAn besides: DLL's are mostly just disguised EXE's, that happen to be called\\nby another task.\\n\\n\\nKarl.\\n\\n------------------------------------------------------------------------\\nKarl-W.Geitz, Hauptstr.50, W-3320 Salzgitter 1, kwgeitz@s-link.escape.de\\nTEL: +49-5300-6701 FAX: +49-5300-6499 CIS: 100010,204 BIX: geitzkwg\\n## CrossPoint v2.1 ##\\n\"\n        ],\n        \"semantic_type\": \"\",\n        \"description\": \"\"\n      }\n    },\n    {\n      \"column\": \"Labels\",\n      \"properties\": {\n        \"dtype\": \"category\",\n        \"num_unique_values\": 20,\n        \"samples\": [\n          \"alt.atheism\",\n          \"talk.politics.mideast\",\n          \"soc.religion.christian\"\n        ],\n        \"semantic_type\": \"\",\n        \"description\": \"\"\n      }\n    }\n  ]\n}"
            }
          },
          "metadata": {},
          "execution_count": 13
        }
      ]
    },
    {
      "cell_type": "code",
      "source": [
        "#Explore the dataset\n",
        "df.info()"
      ],
      "metadata": {
        "colab": {
          "base_uri": "https://localhost:8080/"
        },
        "id": "-7qH88tTUt83",
        "outputId": "a438cf5b-4b85-4de7-9646-e751070adce0"
      },
      "execution_count": 14,
      "outputs": [
        {
          "output_type": "stream",
          "name": "stdout",
          "text": [
            "<class 'pandas.core.frame.DataFrame'>\n",
            "RangeIndex: 19997 entries, 0 to 19996\n",
            "Data columns (total 3 columns):\n",
            " #   Column      Non-Null Count  Dtype \n",
            "---  ------      --------------  ----- \n",
            " 0   Unnamed: 0  19997 non-null  int64 \n",
            " 1   Data        19997 non-null  object\n",
            " 2   Labels      19997 non-null  object\n",
            "dtypes: int64(1), object(2)\n",
            "memory usage: 468.8+ KB\n"
          ]
        }
      ]
    },
    {
      "cell_type": "code",
      "source": [
        "# Check for any missing values\n",
        "df.isnull().sum()"
      ],
      "metadata": {
        "colab": {
          "base_uri": "https://localhost:8080/"
        },
        "id": "vcrQd17xUu4F",
        "outputId": "b9bd4096-8821-492a-aa04-b5906178d0b3"
      },
      "execution_count": 15,
      "outputs": [
        {
          "output_type": "execute_result",
          "data": {
            "text/plain": [
              "Unnamed: 0    0\n",
              "Data          0\n",
              "Labels        0\n",
              "dtype: int64"
            ]
          },
          "metadata": {},
          "execution_count": 15
        }
      ]
    },
    {
      "cell_type": "code",
      "source": [
        "# Display the distribution of the categories\n",
        "df['Labels'].value_counts()"
      ],
      "metadata": {
        "colab": {
          "base_uri": "https://localhost:8080/"
        },
        "id": "XCqmY6xpUpL9",
        "outputId": "5a5eec16-25d1-4f45-e053-6d0e4297472f"
      },
      "execution_count": 16,
      "outputs": [
        {
          "output_type": "execute_result",
          "data": {
            "text/plain": [
              "Labels\n",
              "alt.atheism                 1000\n",
              "comp.graphics               1000\n",
              "talk.politics.misc          1000\n",
              "talk.politics.mideast       1000\n",
              "talk.politics.guns          1000\n",
              "sci.space                   1000\n",
              "sci.med                     1000\n",
              "sci.electronics             1000\n",
              "sci.crypt                   1000\n",
              "rec.sport.hockey            1000\n",
              "rec.sport.baseball          1000\n",
              "rec.motorcycles             1000\n",
              "rec.autos                   1000\n",
              "misc.forsale                1000\n",
              "comp.windows.x              1000\n",
              "comp.sys.mac.hardware       1000\n",
              "comp.sys.ibm.pc.hardware    1000\n",
              "comp.os.ms-windows.misc     1000\n",
              "talk.religion.misc          1000\n",
              "soc.religion.christian       997\n",
              "Name: count, dtype: int64"
            ]
          },
          "metadata": {},
          "execution_count": 16
        }
      ]
    },
    {
      "cell_type": "code",
      "source": [
        "#preprocess the data\n",
        "import string\n",
        "import nltk\n",
        "from nltk.corpus import stopwords\n",
        "from sklearn.feature_extraction.text import TfidfVectorizer\n",
        "\n",
        "nltk.download('stopwords')\n"
      ],
      "metadata": {
        "colab": {
          "base_uri": "https://localhost:8080/"
        },
        "id": "IPt2IbtfUpO1",
        "outputId": "f97d7135-d2a8-4c2a-920e-20af01bdc59a"
      },
      "execution_count": 17,
      "outputs": [
        {
          "output_type": "stream",
          "name": "stderr",
          "text": [
            "[nltk_data] Downloading package stopwords to /root/nltk_data...\n",
            "[nltk_data]   Package stopwords is already up-to-date!\n"
          ]
        },
        {
          "output_type": "execute_result",
          "data": {
            "text/plain": [
              "True"
            ]
          },
          "metadata": {},
          "execution_count": 17
        }
      ]
    },
    {
      "cell_type": "code",
      "source": [
        "# Function to preprocess the text\n",
        "def preprocess_text(text):\n",
        "    # Convert text to lowercase\n",
        "    text = text.lower()\n",
        "    # Remove punctuation\n",
        "    text = text.translate(str.maketrans('', '', string.punctuation))\n",
        "    # Tokenize text\n",
        "    tokens = text.split()\n",
        "    # Remove stopwords\n",
        "    tokens = [word for word in tokens if word not in stopwords.words('english')]\n",
        "    return ' '.join(tokens)"
      ],
      "metadata": {
        "id": "RjLtofy0UpR3"
      },
      "execution_count": 21,
      "outputs": []
    },
    {
      "cell_type": "code",
      "source": [
        "# Apply the preprocessing function to the Data column\n",
        "df['Data'] = df['Data'].apply(preprocess_text)\n"
      ],
      "metadata": {
        "id": "XD7HXEeUUpUv"
      },
      "execution_count": 22,
      "outputs": []
    },
    {
      "cell_type": "code",
      "source": [
        "df.head()"
      ],
      "metadata": {
        "colab": {
          "base_uri": "https://localhost:8080/",
          "height": 206
        },
        "id": "-3imO2gdUpXd",
        "outputId": "d99a044d-76d8-4151-8e70-e86ae2e0e038"
      },
      "execution_count": 23,
      "outputs": [
        {
          "output_type": "execute_result",
          "data": {
            "text/plain": [
              "   Unnamed: 0                                               Data       Labels\n",
              "0           0  xref cantaloupesrvcscmuedu altatheism49960 alt...  alt.atheism\n",
              "1           1  xref cantaloupesrvcscmuedu altatheism51060 alt...  alt.atheism\n",
              "2           2  newsgroups altatheism path cantaloupesrvcscmue...  alt.atheism\n",
              "3           3  xref cantaloupesrvcscmuedu altatheism51120 alt...  alt.atheism\n",
              "4           4  xref cantaloupesrvcscmuedu altatheism51121 soc...  alt.atheism"
            ],
            "text/html": [
              "\n",
              "  <div id=\"df-a3a7f73e-c4bc-44d1-87f7-9f00ae0fba74\" class=\"colab-df-container\">\n",
              "    <div>\n",
              "<style scoped>\n",
              "    .dataframe tbody tr th:only-of-type {\n",
              "        vertical-align: middle;\n",
              "    }\n",
              "\n",
              "    .dataframe tbody tr th {\n",
              "        vertical-align: top;\n",
              "    }\n",
              "\n",
              "    .dataframe thead th {\n",
              "        text-align: right;\n",
              "    }\n",
              "</style>\n",
              "<table border=\"1\" class=\"dataframe\">\n",
              "  <thead>\n",
              "    <tr style=\"text-align: right;\">\n",
              "      <th></th>\n",
              "      <th>Unnamed: 0</th>\n",
              "      <th>Data</th>\n",
              "      <th>Labels</th>\n",
              "    </tr>\n",
              "  </thead>\n",
              "  <tbody>\n",
              "    <tr>\n",
              "      <th>0</th>\n",
              "      <td>0</td>\n",
              "      <td>xref cantaloupesrvcscmuedu altatheism49960 alt...</td>\n",
              "      <td>alt.atheism</td>\n",
              "    </tr>\n",
              "    <tr>\n",
              "      <th>1</th>\n",
              "      <td>1</td>\n",
              "      <td>xref cantaloupesrvcscmuedu altatheism51060 alt...</td>\n",
              "      <td>alt.atheism</td>\n",
              "    </tr>\n",
              "    <tr>\n",
              "      <th>2</th>\n",
              "      <td>2</td>\n",
              "      <td>newsgroups altatheism path cantaloupesrvcscmue...</td>\n",
              "      <td>alt.atheism</td>\n",
              "    </tr>\n",
              "    <tr>\n",
              "      <th>3</th>\n",
              "      <td>3</td>\n",
              "      <td>xref cantaloupesrvcscmuedu altatheism51120 alt...</td>\n",
              "      <td>alt.atheism</td>\n",
              "    </tr>\n",
              "    <tr>\n",
              "      <th>4</th>\n",
              "      <td>4</td>\n",
              "      <td>xref cantaloupesrvcscmuedu altatheism51121 soc...</td>\n",
              "      <td>alt.atheism</td>\n",
              "    </tr>\n",
              "  </tbody>\n",
              "</table>\n",
              "</div>\n",
              "    <div class=\"colab-df-buttons\">\n",
              "\n",
              "  <div class=\"colab-df-container\">\n",
              "    <button class=\"colab-df-convert\" onclick=\"convertToInteractive('df-a3a7f73e-c4bc-44d1-87f7-9f00ae0fba74')\"\n",
              "            title=\"Convert this dataframe to an interactive table.\"\n",
              "            style=\"display:none;\">\n",
              "\n",
              "  <svg xmlns=\"http://www.w3.org/2000/svg\" height=\"24px\" viewBox=\"0 -960 960 960\">\n",
              "    <path d=\"M120-120v-720h720v720H120Zm60-500h600v-160H180v160Zm220 220h160v-160H400v160Zm0 220h160v-160H400v160ZM180-400h160v-160H180v160Zm440 0h160v-160H620v160ZM180-180h160v-160H180v160Zm440 0h160v-160H620v160Z\"/>\n",
              "  </svg>\n",
              "    </button>\n",
              "\n",
              "  <style>\n",
              "    .colab-df-container {\n",
              "      display:flex;\n",
              "      gap: 12px;\n",
              "    }\n",
              "\n",
              "    .colab-df-convert {\n",
              "      background-color: #E8F0FE;\n",
              "      border: none;\n",
              "      border-radius: 50%;\n",
              "      cursor: pointer;\n",
              "      display: none;\n",
              "      fill: #1967D2;\n",
              "      height: 32px;\n",
              "      padding: 0 0 0 0;\n",
              "      width: 32px;\n",
              "    }\n",
              "\n",
              "    .colab-df-convert:hover {\n",
              "      background-color: #E2EBFA;\n",
              "      box-shadow: 0px 1px 2px rgba(60, 64, 67, 0.3), 0px 1px 3px 1px rgba(60, 64, 67, 0.15);\n",
              "      fill: #174EA6;\n",
              "    }\n",
              "\n",
              "    .colab-df-buttons div {\n",
              "      margin-bottom: 4px;\n",
              "    }\n",
              "\n",
              "    [theme=dark] .colab-df-convert {\n",
              "      background-color: #3B4455;\n",
              "      fill: #D2E3FC;\n",
              "    }\n",
              "\n",
              "    [theme=dark] .colab-df-convert:hover {\n",
              "      background-color: #434B5C;\n",
              "      box-shadow: 0px 1px 3px 1px rgba(0, 0, 0, 0.15);\n",
              "      filter: drop-shadow(0px 1px 2px rgba(0, 0, 0, 0.3));\n",
              "      fill: #FFFFFF;\n",
              "    }\n",
              "  </style>\n",
              "\n",
              "    <script>\n",
              "      const buttonEl =\n",
              "        document.querySelector('#df-a3a7f73e-c4bc-44d1-87f7-9f00ae0fba74 button.colab-df-convert');\n",
              "      buttonEl.style.display =\n",
              "        google.colab.kernel.accessAllowed ? 'block' : 'none';\n",
              "\n",
              "      async function convertToInteractive(key) {\n",
              "        const element = document.querySelector('#df-a3a7f73e-c4bc-44d1-87f7-9f00ae0fba74');\n",
              "        const dataTable =\n",
              "          await google.colab.kernel.invokeFunction('convertToInteractive',\n",
              "                                                    [key], {});\n",
              "        if (!dataTable) return;\n",
              "\n",
              "        const docLinkHtml = 'Like what you see? Visit the ' +\n",
              "          '<a target=\"_blank\" href=https://colab.research.google.com/notebooks/data_table.ipynb>data table notebook</a>'\n",
              "          + ' to learn more about interactive tables.';\n",
              "        element.innerHTML = '';\n",
              "        dataTable['output_type'] = 'display_data';\n",
              "        await google.colab.output.renderOutput(dataTable, element);\n",
              "        const docLink = document.createElement('div');\n",
              "        docLink.innerHTML = docLinkHtml;\n",
              "        element.appendChild(docLink);\n",
              "      }\n",
              "    </script>\n",
              "  </div>\n",
              "\n",
              "\n",
              "<div id=\"df-ace6f9a6-796c-446c-9e20-36dc9043be85\">\n",
              "  <button class=\"colab-df-quickchart\" onclick=\"quickchart('df-ace6f9a6-796c-446c-9e20-36dc9043be85')\"\n",
              "            title=\"Suggest charts\"\n",
              "            style=\"display:none;\">\n",
              "\n",
              "<svg xmlns=\"http://www.w3.org/2000/svg\" height=\"24px\"viewBox=\"0 0 24 24\"\n",
              "     width=\"24px\">\n",
              "    <g>\n",
              "        <path d=\"M19 3H5c-1.1 0-2 .9-2 2v14c0 1.1.9 2 2 2h14c1.1 0 2-.9 2-2V5c0-1.1-.9-2-2-2zM9 17H7v-7h2v7zm4 0h-2V7h2v10zm4 0h-2v-4h2v4z\"/>\n",
              "    </g>\n",
              "</svg>\n",
              "  </button>\n",
              "\n",
              "<style>\n",
              "  .colab-df-quickchart {\n",
              "      --bg-color: #E8F0FE;\n",
              "      --fill-color: #1967D2;\n",
              "      --hover-bg-color: #E2EBFA;\n",
              "      --hover-fill-color: #174EA6;\n",
              "      --disabled-fill-color: #AAA;\n",
              "      --disabled-bg-color: #DDD;\n",
              "  }\n",
              "\n",
              "  [theme=dark] .colab-df-quickchart {\n",
              "      --bg-color: #3B4455;\n",
              "      --fill-color: #D2E3FC;\n",
              "      --hover-bg-color: #434B5C;\n",
              "      --hover-fill-color: #FFFFFF;\n",
              "      --disabled-bg-color: #3B4455;\n",
              "      --disabled-fill-color: #666;\n",
              "  }\n",
              "\n",
              "  .colab-df-quickchart {\n",
              "    background-color: var(--bg-color);\n",
              "    border: none;\n",
              "    border-radius: 50%;\n",
              "    cursor: pointer;\n",
              "    display: none;\n",
              "    fill: var(--fill-color);\n",
              "    height: 32px;\n",
              "    padding: 0;\n",
              "    width: 32px;\n",
              "  }\n",
              "\n",
              "  .colab-df-quickchart:hover {\n",
              "    background-color: var(--hover-bg-color);\n",
              "    box-shadow: 0 1px 2px rgba(60, 64, 67, 0.3), 0 1px 3px 1px rgba(60, 64, 67, 0.15);\n",
              "    fill: var(--button-hover-fill-color);\n",
              "  }\n",
              "\n",
              "  .colab-df-quickchart-complete:disabled,\n",
              "  .colab-df-quickchart-complete:disabled:hover {\n",
              "    background-color: var(--disabled-bg-color);\n",
              "    fill: var(--disabled-fill-color);\n",
              "    box-shadow: none;\n",
              "  }\n",
              "\n",
              "  .colab-df-spinner {\n",
              "    border: 2px solid var(--fill-color);\n",
              "    border-color: transparent;\n",
              "    border-bottom-color: var(--fill-color);\n",
              "    animation:\n",
              "      spin 1s steps(1) infinite;\n",
              "  }\n",
              "\n",
              "  @keyframes spin {\n",
              "    0% {\n",
              "      border-color: transparent;\n",
              "      border-bottom-color: var(--fill-color);\n",
              "      border-left-color: var(--fill-color);\n",
              "    }\n",
              "    20% {\n",
              "      border-color: transparent;\n",
              "      border-left-color: var(--fill-color);\n",
              "      border-top-color: var(--fill-color);\n",
              "    }\n",
              "    30% {\n",
              "      border-color: transparent;\n",
              "      border-left-color: var(--fill-color);\n",
              "      border-top-color: var(--fill-color);\n",
              "      border-right-color: var(--fill-color);\n",
              "    }\n",
              "    40% {\n",
              "      border-color: transparent;\n",
              "      border-right-color: var(--fill-color);\n",
              "      border-top-color: var(--fill-color);\n",
              "    }\n",
              "    60% {\n",
              "      border-color: transparent;\n",
              "      border-right-color: var(--fill-color);\n",
              "    }\n",
              "    80% {\n",
              "      border-color: transparent;\n",
              "      border-right-color: var(--fill-color);\n",
              "      border-bottom-color: var(--fill-color);\n",
              "    }\n",
              "    90% {\n",
              "      border-color: transparent;\n",
              "      border-bottom-color: var(--fill-color);\n",
              "    }\n",
              "  }\n",
              "</style>\n",
              "\n",
              "  <script>\n",
              "    async function quickchart(key) {\n",
              "      const quickchartButtonEl =\n",
              "        document.querySelector('#' + key + ' button');\n",
              "      quickchartButtonEl.disabled = true;  // To prevent multiple clicks.\n",
              "      quickchartButtonEl.classList.add('colab-df-spinner');\n",
              "      try {\n",
              "        const charts = await google.colab.kernel.invokeFunction(\n",
              "            'suggestCharts', [key], {});\n",
              "      } catch (error) {\n",
              "        console.error('Error during call to suggestCharts:', error);\n",
              "      }\n",
              "      quickchartButtonEl.classList.remove('colab-df-spinner');\n",
              "      quickchartButtonEl.classList.add('colab-df-quickchart-complete');\n",
              "    }\n",
              "    (() => {\n",
              "      let quickchartButtonEl =\n",
              "        document.querySelector('#df-ace6f9a6-796c-446c-9e20-36dc9043be85 button');\n",
              "      quickchartButtonEl.style.display =\n",
              "        google.colab.kernel.accessAllowed ? 'block' : 'none';\n",
              "    })();\n",
              "  </script>\n",
              "</div>\n",
              "\n",
              "    </div>\n",
              "  </div>\n"
            ],
            "application/vnd.google.colaboratory.intrinsic+json": {
              "type": "dataframe",
              "variable_name": "df",
              "summary": "{\n  \"name\": \"df\",\n  \"rows\": 19997,\n  \"fields\": [\n    {\n      \"column\": \"Unnamed: 0\",\n      \"properties\": {\n        \"dtype\": \"number\",\n        \"std\": 5772,\n        \"min\": 0,\n        \"max\": 19996,\n        \"num_unique_values\": 19997,\n        \"samples\": [\n          10747,\n          4949,\n          3352\n        ],\n        \"semantic_type\": \"\",\n        \"description\": \"\"\n      }\n    },\n    {\n      \"column\": \"Data\",\n      \"properties\": {\n        \"dtype\": \"string\",\n        \"num_unique_values\": 19466,\n        \"samples\": [\n          \"xref cantaloupesrvcscmuedu socreligionchristian21662 path cantaloupesrvcscmuedudasnewsharvardedunocnearnethowlandrestonansnetagateamespacbellcomattoutrutgersigorrutgersedugenevarutgerseduchristian af664yfnysuedu frank decenso jr newsgroups socreligionchristian subject christianity crisis messageid may1800545319939551genevarutgersedu date 18 may 93 045454 gmt sender hedrickgenevarutgersedu organization youngstown stateyoungstown freenet lines 371 approved christianaramisrutgersedu bitlistservchristia zane writes facn34bsaupm00bitnet zane dhahan newsgroups bitlistservchristia subject christianity crisis date wed may 12 144319 1993 frank first thanks great scripture verses pleasure read reply welcome zane zane sure nothing say change mind would like ask book question really anything mean caught wordfaith thing read book youve rescued error pain result christian life reply 1 first became christian entered wordfaith movement easy wasnt grounded word god sound doctrine visited christian book stores cheapest books could find buy 50 100 books hagin others consequently began receiving hagins monthly magazine still send also copelands also still sent wasnt read booklet jimmy swaggart called hyper faith new gnosticism began realize teachings partaking error started reading bible studying sure enough jimmy right many points part experience alerting christians particularly new christians teachings heretical need bereans acts 1711 check teachings scripture 2 brother law involved wordfaith cult area leader real good friends benny hinn rather going much detail suffice say deceived mistreated fallen atheism im still praying phil 16 3 assistant pastor church teach adult sunday school follower copeland 15 years thousands tapes faith teachers class recently quoted several teachers heretical statements surprise since ive able talk length issues 4 leader womens group church benny hinn fan recently found lending good morning holy spirit women church prompted quotes sunday school well lending cic people church im well aware abuses heresies perpetrated movement urgency heart life warn people heresies heresies jesus became sin took nature devil became one b jesus death cross wasnt enough atone c jesus dragged hell death beat abused satan demons thus finishing atonement satan ruling jesus bornagain hell e jesus died spiritually lost divinity reassumed resurrection f gods heresies documentation provided teachings upon request zane preventing going joining wordfaith movement youd contemplating joining long youve read book youve saved reply wasnt christianity crisis helped booklet swaggart mentioned cic much much better tremendous documentation insights zane dont nice scriptural answer believe best un profitable christians engage type activity heresy hunting reply call heresy hunting hunting implies isnt readily accessible available movement fastest growing movement christendom hagin sold 40 million books booklets hinn sold books last couple years swindoll dobson combined fred price largest church terms seating capacity usa doesnt sound like much hunting needed scriptural expose doctrinal error gave verses given epistles written due error doctrinal practical churches early church numerous councils expose error heresy new thing remember luther zane would like point though historically hunt heretics often end causing bigger mess heretics un documented opinion reply 1 provide documentation would appreciated 2 read ephesians 41116 esp vss 13 14 tell causes disunity immaturity body eph 41314 till come unity faith knowledge son god perfect man measure stature fullness christ longer children tossed fro carried every wind doctrine trickery men cunning craftiness deceitful plotting disunity contrary popular opinion isnt caused exposing error caused error zane many probably give place seeing scriptures documenting spiritual development growth writers would suggest fiery paul letter galatians mellows matures one loses sake love end reply scholars believe paul wrote 2 timothy last lets examine admonitions tim ascertain mellow become 2ti 11315 hold fast pattern sound words heard faith love christ jesus good thing committed keep holy spirit dwells us know asia turned away among phygellus hermogenes 2ti 21518 diligent present approved god worker need ashamed rightly dividing word truth shun profane idle babblings increase ungodliness message spread like cancer hymenaeus philetus sort strayed concerning truth saying resurrection already past overthrow faith 2ti 22426 servant lord must quarrel gentle able teach patient humility correcting opposition god perhaps grant repentance may know truth may come senses escape snare devil taken captive 2ti 369 sort creep households make captives gullible women loaded sins led away various lusts always learning never able come knowledge truth jannes jambres resisted moses also resist truth men corrupt minds disapproved concerning faith progress folly manifest also 2ti 31217 yes desire live godly christ jesus suffer persecution evil men impostors grow worse worse deceiving deceived must continue things learned assured knowing learned childhood known holy scriptures able make wise salvation faith christ jesus scripture given inspiration god profitable doctrine reproof correction instruction righteousness man god may complete thoroughly equipped every good work 2ti 425 preach word ready season season convince rebuke exhort longsuffering teaching time come endure sound doctrine according desires itching ears heap teachers turn ears away truth turned aside fables watchful things endure afflictions work evangelist fulfill ministry 2ti 41415 alexander coppersmith much harm may lord repay according works also must beware greatly resisted words zane picture paul one goes way destroy ministry wolves one teaches sheep many tears necessity absolutely allowing transformed wolves protect reply act 202631 therefore testify day innocent blood men shunned declare whole counsel god therefore take heed flock among holy spirit made overseers shepherd church god purchased blood know departure savage wolves come among sparing flock also among men rise speaking perverse things draw away disciples therefore watch remember three years cease warn everyone night day tears zane warning paul note never drops name wolf admit cries beard end abandoned everyone asia wasnt reply paul mentioned names 1ti 11820 charge commit son timothy according prophecies previously made concerning may wage good warfare faith good conscience rejected concerning faith suffered shipwreck hymenaeus alexander delivered satan may learn blaspheme 2ti 115 know asia turned away among phygellus hermogenes 2ti 21618 shun profane idle babblings increase ungodliness message spread like cancer hymenaeus philetus sort strayed concerning truth saying resurrection already past overthrow faith 2ti 410 demas forsaken loved present world departed thessalonicacrescens galatia titus dalmatia 2ti 41415 alexander coppersmith much harm may lord repay according works also must beware greatly resisted words john 3jo 1910 wrote church diotrephes loves preeminence among receive us therefore come call mind deeds prating us malicious words content receive brethren forbids wish putting church jesus also singled teachings doctrines rev 21416 things hold doctrine balaam taught balak put stumbling block children israel eat things sacrificed idols commit sexual immorality thus also hold doctrine nicolaitans thing hate repent else come quickly fight sword mouth rev 22023 nevertheless things allow woman jezebel calls prophetess teach seduce servants commit sexual immorality eat things sacrificed idols gave time repent sexual immorality repent indeed cast sickbed commit adultery great tribulation unless repent deeds kill children death churches shall know searches minds hearts give one according works zane question purposes write books build ministries faults deliberate otherwise others maybe would wander around desert eating locust honey barely cakeswith worldly goods stake money made reputations maintain would question motives conscious otherwise less reply wont comment deals intangible motives others even bad motives remember paul said phi 11518 indeed preach christ even envy strife also good former preach christ selfish ambition sincerely supposing add affliction chains latter love knowing appointed defense gospel every way whether pretense truth christ preached rejoice yes rejoice zane want true admonitions scripture many list protecting flock wolves winds doctrines suggest start allowing wolfprogram noetic pasture nailed cross reply please explain zane secondly suggest heresy hunting restricted fellowships strict scriptural sense local citychurch reply heresy propagated mass media may needed go mass media exposure unfortunately heresy taught copelands church hagins hinns prices radio print etc pastor church leader knows materials sheep feeding outside church imperative leadership made aware cic also lets examine passage scripture eph 411 gave apostles prophets evangelists pastors teachers eph 412 equipping saints work ministry edifying body christ ministry gifts lord installs church one individual church body christ paul apostle traveled distilling message also teacher 1co 417 reason sent timothy beloved faithful son lord remind ways christ teach everywhere every church 1co 717 god distributed one lord called one let walk ordain churches also 1co 1228 god appointed church first apostles second prophets third teachers miracles gifts healings helps administrations varieties tongues eph 413 till come unity faith knowledge son god perfect man measure stature fullness christ notice fivefold ministries going around till church unity faith knowledge son god perfect man believe occur fully lord jesus returns see 1cor 13912 god wants body continue maturing hinders maturity unity body eph 414 longer children tossed fro carried every wind doctrine trickery men cunning craftiness deceitful plotting clear false doctrine integrated church trickery men causes 1 disunity thing striving 2 spiritual immaturity church continues spiritual childhood christians tossed fro carried every wind doctrine five fold ministry appear clear scriptural denominational boundaries pastors appear responsible individual flock deal doctrines necessary struggle equip body believers called degree jud 134 beloved diligent write concerning common salvation found necessary write exhorting contend earnestly faith delivered saints certain men crept unnoticed long ago marked condemnation ungodly men turn grace god lewdness deny lord god lord jesus christ zane youll notice scripture heresy hunters went church church area area bad guys went good guy namely paul considered arch heretic reply heretics trying discredit paul preaching contrary taught zane lets face wolves reason reason lets hope wolves become sheep sheep lambs reply yes 2ti 22426 servant lord must quarrel gentle able teach patient humility correcting opposition god perhaps grant repentance may know truth may come senses escape snare devil taken captive amen frank one wished contend could answer one time thousand job 93\",\n          \"path cantaloupesrvcscmueducrabapplesrvcscmuedubb3andrewcmuedunewsseicmueducisohiostateeduzaphodmpsohiostateeduhowlandrestonansnetagatedogeelblgovnetworkucsdedumunnariozaugoannaescargotminyosxxrmitozaus872505 s872505minyosxxrmitozau stephen bokor newsgroups compsysibmpchardware subject drive wont boot messageid 1r2h10innh3lescargotxxrmitozau date 21 apr 93 040240 gmt references 120922netnewsupennedu organization royal melbourne institute technology lines 36 nntppostinghost minyosxxrmitozau balogeniacseasupennedu eric j balog writes hi recently switched 35 drive problem read write new b correctly cant boot floppy ive checked cmos settings set floppy seek boot boot order ac floppy systems files got message telling put disk systems disk drive didnt work systems disk drive happens 1 poweron memory test 2 light comes 3 b light comes followed short beep 4 hd light comes instant 5 b light comes nothing happens light goes disk activity kind screen blanks cant even use ctrlaltdel suggestions checked 1 setting drive 144 floppy 2 setting drive b 12 foppy 3 cable connecting two drives controller card cant remember two wires swapped determine drive b hope help steve s872505minyosxxozau\",\n          \"path cantaloupesrvcscmuedudasnewsharvardedunocnearnethowlandrestonansnetiraukadenewsdfndemailgzrztuberlindenewsnetmbxdegermanyeunetrzunihildesheimdeagscerniescapedeslinkescapedekwgeitz kwgeitzslinkescapede karlw geitz newsgroups composmswindowsmisc subject data segments memory model usage messageid 50phs3ykposlinkescapede organization slink public mailbox braunschweig germany date fri 14 may 1993 192400 0200 lines 36 hello phjm wrote firstly windows 31 386 enhanced mode anything special dlls compiled using large memory model told even 386 enhanced mode windows load dlls real memory 640k pagelock second question relates static data inside dlls way get multiple instances static data segment dgroup allocate real static data within code segments need dynamic memory allocate data global heap forget written memory management 31 paged virtual memory lock every block without hampering memory manager use far pointer everytime without always lock unlocking memory block besides dlls mostly disguised exes happen called another task karl karlwgeitz hauptstr50 w3320 salzgitter 1 kwgeitzslinkescapede tel 4953006701 fax 4953006499 cis 100010204 bix geitzkwg crosspoint v21\"\n        ],\n        \"semantic_type\": \"\",\n        \"description\": \"\"\n      }\n    },\n    {\n      \"column\": \"Labels\",\n      \"properties\": {\n        \"dtype\": \"category\",\n        \"num_unique_values\": 20,\n        \"samples\": [\n          \"alt.atheism\",\n          \"talk.politics.mideast\",\n          \"soc.religion.christian\"\n        ],\n        \"semantic_type\": \"\",\n        \"description\": \"\"\n      }\n    }\n  ]\n}"
            }
          },
          "metadata": {},
          "execution_count": 23
        }
      ]
    },
    {
      "cell_type": "code",
      "source": [
        "#Feature extraction using TF-IDF\n",
        "# Initialize the TF-IDF vectorizer\n",
        "tfidf_vectorizer = TfidfVectorizer(max_features=5000)"
      ],
      "metadata": {
        "id": "4r6hr_QspSS6"
      },
      "execution_count": 25,
      "outputs": []
    },
    {
      "cell_type": "code",
      "source": [
        "# Fit and transform the Data column\n",
        "X = tfidf_vectorizer.fit_transform(df['Data'])\n"
      ],
      "metadata": {
        "id": "yC3CrtEzpSWE"
      },
      "execution_count": 26,
      "outputs": []
    },
    {
      "cell_type": "code",
      "source": [
        "# Convert Labels to numerical format\n",
        "from sklearn.preprocessing import LabelEncoder\n"
      ],
      "metadata": {
        "id": "bIULZ9nFpSYz"
      },
      "execution_count": 27,
      "outputs": []
    },
    {
      "cell_type": "code",
      "source": [
        "label_encoder = LabelEncoder()\n",
        "y = label_encoder.fit_transform(df['Labels'])"
      ],
      "metadata": {
        "id": "2BNVwyWJpS9I"
      },
      "execution_count": 28,
      "outputs": []
    },
    {
      "cell_type": "markdown",
      "source": [
        "# 2. Naive Bayes Model for Text Classification"
      ],
      "metadata": {
        "id": "-0F2mQZLsyIF"
      }
    },
    {
      "cell_type": "markdown",
      "source": [
        "Split the data into training and test sets"
      ],
      "metadata": {
        "id": "31dxbT7Us110"
      }
    },
    {
      "cell_type": "code",
      "source": [
        "# Split the data into training and test sets\n",
        "from sklearn.model_selection import train_test_split\n",
        "X_train, X_test, y_train, y_test = train_test_split(X, y, test_size=0.2, random_state=42)"
      ],
      "metadata": {
        "id": "irw9Bc_KpTIu"
      },
      "execution_count": 30,
      "outputs": []
    },
    {
      "cell_type": "code",
      "source": [
        "#Implement and train the Naive Bayes classifier\n",
        "from sklearn.naive_bayes import MultinomialNB\n",
        "\n",
        "# Initialize the Naive Bayes classifier\n",
        "nb_classifier = MultinomialNB()"
      ],
      "metadata": {
        "id": "2vXUunYSUpaQ"
      },
      "execution_count": 33,
      "outputs": []
    },
    {
      "cell_type": "code",
      "source": [
        "# Train the classifier on the training set\n",
        "nb_classifier.fit(X_train, y_train)"
      ],
      "metadata": {
        "colab": {
          "base_uri": "https://localhost:8080/",
          "height": 75
        },
        "id": "lbPjZqQLtOck",
        "outputId": "54dad54c-bdc2-4f8d-f381-c2a17ff99d01"
      },
      "execution_count": 34,
      "outputs": [
        {
          "output_type": "execute_result",
          "data": {
            "text/plain": [
              "MultinomialNB()"
            ],
            "text/html": [
              "<style>#sk-container-id-1 {color: black;background-color: white;}#sk-container-id-1 pre{padding: 0;}#sk-container-id-1 div.sk-toggleable {background-color: white;}#sk-container-id-1 label.sk-toggleable__label {cursor: pointer;display: block;width: 100%;margin-bottom: 0;padding: 0.3em;box-sizing: border-box;text-align: center;}#sk-container-id-1 label.sk-toggleable__label-arrow:before {content: \"▸\";float: left;margin-right: 0.25em;color: #696969;}#sk-container-id-1 label.sk-toggleable__label-arrow:hover:before {color: black;}#sk-container-id-1 div.sk-estimator:hover label.sk-toggleable__label-arrow:before {color: black;}#sk-container-id-1 div.sk-toggleable__content {max-height: 0;max-width: 0;overflow: hidden;text-align: left;background-color: #f0f8ff;}#sk-container-id-1 div.sk-toggleable__content pre {margin: 0.2em;color: black;border-radius: 0.25em;background-color: #f0f8ff;}#sk-container-id-1 input.sk-toggleable__control:checked~div.sk-toggleable__content {max-height: 200px;max-width: 100%;overflow: auto;}#sk-container-id-1 input.sk-toggleable__control:checked~label.sk-toggleable__label-arrow:before {content: \"▾\";}#sk-container-id-1 div.sk-estimator input.sk-toggleable__control:checked~label.sk-toggleable__label {background-color: #d4ebff;}#sk-container-id-1 div.sk-label input.sk-toggleable__control:checked~label.sk-toggleable__label {background-color: #d4ebff;}#sk-container-id-1 input.sk-hidden--visually {border: 0;clip: rect(1px 1px 1px 1px);clip: rect(1px, 1px, 1px, 1px);height: 1px;margin: -1px;overflow: hidden;padding: 0;position: absolute;width: 1px;}#sk-container-id-1 div.sk-estimator {font-family: monospace;background-color: #f0f8ff;border: 1px dotted black;border-radius: 0.25em;box-sizing: border-box;margin-bottom: 0.5em;}#sk-container-id-1 div.sk-estimator:hover {background-color: #d4ebff;}#sk-container-id-1 div.sk-parallel-item::after {content: \"\";width: 100%;border-bottom: 1px solid gray;flex-grow: 1;}#sk-container-id-1 div.sk-label:hover label.sk-toggleable__label {background-color: #d4ebff;}#sk-container-id-1 div.sk-serial::before {content: \"\";position: absolute;border-left: 1px solid gray;box-sizing: border-box;top: 0;bottom: 0;left: 50%;z-index: 0;}#sk-container-id-1 div.sk-serial {display: flex;flex-direction: column;align-items: center;background-color: white;padding-right: 0.2em;padding-left: 0.2em;position: relative;}#sk-container-id-1 div.sk-item {position: relative;z-index: 1;}#sk-container-id-1 div.sk-parallel {display: flex;align-items: stretch;justify-content: center;background-color: white;position: relative;}#sk-container-id-1 div.sk-item::before, #sk-container-id-1 div.sk-parallel-item::before {content: \"\";position: absolute;border-left: 1px solid gray;box-sizing: border-box;top: 0;bottom: 0;left: 50%;z-index: -1;}#sk-container-id-1 div.sk-parallel-item {display: flex;flex-direction: column;z-index: 1;position: relative;background-color: white;}#sk-container-id-1 div.sk-parallel-item:first-child::after {align-self: flex-end;width: 50%;}#sk-container-id-1 div.sk-parallel-item:last-child::after {align-self: flex-start;width: 50%;}#sk-container-id-1 div.sk-parallel-item:only-child::after {width: 0;}#sk-container-id-1 div.sk-dashed-wrapped {border: 1px dashed gray;margin: 0 0.4em 0.5em 0.4em;box-sizing: border-box;padding-bottom: 0.4em;background-color: white;}#sk-container-id-1 div.sk-label label {font-family: monospace;font-weight: bold;display: inline-block;line-height: 1.2em;}#sk-container-id-1 div.sk-label-container {text-align: center;}#sk-container-id-1 div.sk-container {/* jupyter's `normalize.less` sets `[hidden] { display: none; }` but bootstrap.min.css set `[hidden] { display: none !important; }` so we also need the `!important` here to be able to override the default hidden behavior on the sphinx rendered scikit-learn.org. See: https://github.com/scikit-learn/scikit-learn/issues/21755 */display: inline-block !important;position: relative;}#sk-container-id-1 div.sk-text-repr-fallback {display: none;}</style><div id=\"sk-container-id-1\" class=\"sk-top-container\"><div class=\"sk-text-repr-fallback\"><pre>MultinomialNB()</pre><b>In a Jupyter environment, please rerun this cell to show the HTML representation or trust the notebook. <br />On GitHub, the HTML representation is unable to render, please try loading this page with nbviewer.org.</b></div><div class=\"sk-container\" hidden><div class=\"sk-item\"><div class=\"sk-estimator sk-toggleable\"><input class=\"sk-toggleable__control sk-hidden--visually\" id=\"sk-estimator-id-1\" type=\"checkbox\" checked><label for=\"sk-estimator-id-1\" class=\"sk-toggleable__label sk-toggleable__label-arrow\">MultinomialNB</label><div class=\"sk-toggleable__content\"><pre>MultinomialNB()</pre></div></div></div></div></div>"
            ]
          },
          "metadata": {},
          "execution_count": 34
        }
      ]
    },
    {
      "cell_type": "code",
      "source": [
        "# Make predictions on the test set\n",
        "y_pred = nb_classifier.predict(X_test)"
      ],
      "metadata": {
        "id": "eEFpWdmxtOfq"
      },
      "execution_count": 35,
      "outputs": []
    },
    {
      "cell_type": "markdown",
      "source": [
        "# 3. Sentiment Analysis"
      ],
      "metadata": {
        "id": "5x53vu89tiQz"
      }
    },
    {
      "cell_type": "code",
      "source": [
        "#Perform sentiment analysis\n",
        "from textblob import TextBlob\n",
        "\n",
        "# Function to get sentiment\n",
        "def get_sentiment(text):\n",
        "    analysis = TextBlob(text)\n",
        "    # Classify sentiment as positive, negative, or neutral\n",
        "    if analysis.sentiment.polarity > 0:\n",
        "        return 'positive'\n",
        "    elif analysis.sentiment.polarity < 0:\n",
        "        return 'negative'\n",
        "    else:\n",
        "        return 'neutral'"
      ],
      "metadata": {
        "id": "5ec5P89xtOih"
      },
      "execution_count": 36,
      "outputs": []
    },
    {
      "cell_type": "code",
      "source": [
        "# Apply the function to the Data column\n",
        "df['Sentiment'] = df['Data'].apply(get_sentiment)\n"
      ],
      "metadata": {
        "id": "x6JlMYb6ttIY"
      },
      "execution_count": 37,
      "outputs": []
    },
    {
      "cell_type": "code",
      "source": [
        "# Display the sentiment distribution\n",
        "df['Sentiment'].value_counts()"
      ],
      "metadata": {
        "colab": {
          "base_uri": "https://localhost:8080/"
        },
        "id": "mxVtHwh1ttL3",
        "outputId": "b58c8575-62a6-4037-b0ed-354719e9de76"
      },
      "execution_count": 38,
      "outputs": [
        {
          "output_type": "execute_result",
          "data": {
            "text/plain": [
              "Sentiment\n",
              "positive    14258\n",
              "negative     5721\n",
              "neutral        18\n",
              "Name: count, dtype: int64"
            ]
          },
          "metadata": {},
          "execution_count": 38
        }
      ]
    },
    {
      "cell_type": "markdown",
      "source": [
        "# 4.Evaluation"
      ],
      "metadata": {
        "id": "EnniXA_wtyhW"
      }
    },
    {
      "cell_type": "code",
      "source": [
        "from sklearn.metrics import accuracy_score, precision_score, recall_score, f1_score\n",
        "\n",
        "# Calculate evaluation metrics\n",
        "accuracy = accuracy_score(y_test, y_pred)\n",
        "precision = precision_score(y_test, y_pred, average='weighted')\n",
        "recall = recall_score(y_test, y_pred, average='weighted')\n",
        "f1 = f1_score(y_test, y_pred, average='weighted')\n"
      ],
      "metadata": {
        "id": "1kiPEQbTttOs"
      },
      "execution_count": 39,
      "outputs": []
    },
    {
      "cell_type": "code",
      "source": [
        "# Print the evaluation metrics\n",
        "print(f'Accuracy: {accuracy}')\n",
        "print(f'Precision: {precision}')\n",
        "print(f'Recall: {recall}')\n",
        "print(f'F1-score: {f1}')"
      ],
      "metadata": {
        "colab": {
          "base_uri": "https://localhost:8080/"
        },
        "id": "4qp_BG-Rt5r4",
        "outputId": "131ae43f-e3e3-4ac2-ca8b-37f54ed2f607"
      },
      "execution_count": 40,
      "outputs": [
        {
          "output_type": "stream",
          "name": "stdout",
          "text": [
            "Accuracy: 0.87525\n",
            "Precision: 0.8749084984480978\n",
            "Recall: 0.87525\n",
            "F1-score: 0.8731641027765689\n"
          ]
        }
      ]
    },
    {
      "cell_type": "code",
      "source": [
        "#Analyze sentiment distribution across categories\n",
        "# Display the sentiment distribution across categories\n",
        "sentiment_distribution = df.groupby('Labels')['Sentiment'].value_counts(normalize=True).unstack()\n",
        "sentiment_distribution.plot(kind='bar', stacked=True)\n"
      ],
      "metadata": {
        "colab": {
          "base_uri": "https://localhost:8080/",
          "height": 639
        },
        "id": "RwK91bZIt5u2",
        "outputId": "f6cc0aaa-d91b-4d12-8d7b-1dfc85a62db4"
      },
      "execution_count": 41,
      "outputs": [
        {
          "output_type": "execute_result",
          "data": {
            "text/plain": [
              "<Axes: xlabel='Labels'>"
            ]
          },
          "metadata": {},
          "execution_count": 41
        },
        {
          "output_type": "display_data",
          "data": {
            "text/plain": [
              "<Figure size 640x480 with 1 Axes>"
            ],
            "image/png": "[encoded data removed]"
          },
          "metadata": {}
        }
      ]
    },
    {
      "cell_type": "code",
      "source": [],
      "metadata": {
        "id": "clopMNyft5x8"
      },
      "execution_count": null,
      "outputs": []
    },
    {
      "cell_type": "code",
      "source": [],
      "metadata": {
        "id": "42rG135xttRf"
      },
      "execution_count": null,
      "outputs": []
    }
  ]
}