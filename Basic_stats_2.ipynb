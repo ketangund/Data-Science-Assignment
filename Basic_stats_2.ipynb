{
  "nbformat": 4,
  "nbformat_minor": 0,
  "metadata": {
    "colab": {
      "provenance": []
    },
    "kernelspec": {
      "name": "python3",
      "display_name": "Python 3"
    },
    "language_info": {
      "name": "python"
    }
  },
  "cells": [
    {
      "cell_type": "markdown",
      "source": [
        "# **Basic stats - 2**"
      ],
      "metadata": {
        "id": "xQIYL6CEAroU"
      }
    },
    {
      "cell_type": "code",
      "source": [
        "import numpy as np\n",
        "import scipy.stats as stats\n",
        "\n",
        "# Given data\n",
        "data = np.array([1.13, 1.55, 1.43, 0.92, 1.25, 1.36, 1.32, 0.85, 1.07, 1.48, 1.20, 1.33, 1.18, 1.22, 1.29])"
      ],
      "metadata": {
        "id": "66E5YRv4_V8F"
      },
      "execution_count": 2,
      "outputs": []
    },
    {
      "cell_type": "code",
      "source": [
        "# Sample mean\n",
        "sample_mean = np.mean(data)"
      ],
      "metadata": {
        "id": "9PNvc_0G_V_O"
      },
      "execution_count": 3,
      "outputs": []
    },
    {
      "cell_type": "code",
      "source": [
        "# Sample standard deviation\n",
        "sample_std = np.std(data, ddof=1)"
      ],
      "metadata": {
        "id": "ig_fWkSK_WDF"
      },
      "execution_count": 4,
      "outputs": []
    },
    {
      "cell_type": "code",
      "source": [
        "# Sample size\n",
        "n = len(data)"
      ],
      "metadata": {
        "id": "RXdiDRYE_WGo"
      },
      "execution_count": 5,
      "outputs": []
    },
    {
      "cell_type": "code",
      "source": [
        "# Task a: 99% Confidence Interval using Sample Standard Deviation\n",
        "# Degrees of freedom\n",
        "df = n - 1"
      ],
      "metadata": {
        "id": "2_d7rZazACbd"
      },
      "execution_count": 6,
      "outputs": []
    },
    {
      "cell_type": "code",
      "source": [
        "# t-value for 99% confidence interval\n",
        "t_value = stats.t.ppf(0.995, df)\n"
      ],
      "metadata": {
        "id": "E3GxOAejACfb"
      },
      "execution_count": 7,
      "outputs": []
    },
    {
      "cell_type": "code",
      "source": [
        "# Margin of error\n",
        "ME_sample_std = t_value * (sample_std / np.sqrt(n))\n"
      ],
      "metadata": {
        "id": "BEJ7A7tkACkV"
      },
      "execution_count": 8,
      "outputs": []
    },
    {
      "cell_type": "code",
      "source": [
        "# Confidence interval\n",
        "CI_sample_std = (sample_mean - ME_sample_std, sample_mean + ME_sample_std)"
      ],
      "metadata": {
        "id": "yfhCUTmBACnP"
      },
      "execution_count": 9,
      "outputs": []
    },
    {
      "cell_type": "markdown",
      "source": [
        "# Task b: 99% Confidence Interval using Known Population Standard Deviation\n",
        "Known population standard deviation"
      ],
      "metadata": {
        "id": "3xFnXnEnAT5H"
      }
    },
    {
      "cell_type": "code",
      "source": [
        "population_std = 0.2\n",
        "\n",
        "# z-value for 99% confidence interval\n",
        "z_value = stats.norm.ppf(0.995)\n"
      ],
      "metadata": {
        "id": "JRmgbdJHACqH"
      },
      "execution_count": 10,
      "outputs": []
    },
    {
      "cell_type": "code",
      "source": [
        "# Margin of error\n",
        "ME_population_std = z_value * (population_std / np.sqrt(n))\n"
      ],
      "metadata": {
        "id": "tYuoEGtcACs1"
      },
      "execution_count": 11,
      "outputs": []
    },
    {
      "cell_type": "code",
      "source": [
        "# Confidence interval\n",
        "CI_population_std = (sample_mean - ME_population_std, sample_mean + ME_population_std)\n",
        "\n",
        "CI_sample_std, CI_population_std"
      ],
      "metadata": {
        "colab": {
          "base_uri": "https://localhost:8080/"
        },
        "id": "at0GPOi3ACvg",
        "outputId": "c44034b4-794c-4302-fcde-9cf82f7468ad"
      },
      "execution_count": 12,
      "outputs": [
        {
          "output_type": "execute_result",
          "data": {
            "text/plain": [
              "((1.090197338451367, 1.3871359948819662),\n",
              " (1.1056514133957607, 1.3716819199375725))"
            ]
          },
          "metadata": {},
          "execution_count": 12
        }
      ]
    },
    {
      "cell_type": "code",
      "source": [],
      "metadata": {
        "id": "qyYfqL25ACya"
      },
      "execution_count": null,
      "outputs": []
    }
  ]
}