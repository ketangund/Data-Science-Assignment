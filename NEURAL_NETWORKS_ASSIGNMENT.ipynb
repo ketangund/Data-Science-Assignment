{
  "cells": [
    {
      "cell_type": "markdown",
      "metadata": {
        "id": "1n3erF79mwfq"
      },
      "source": [
        "# **ARTIFICIAL NEURAL NETWORKS**"
      ]
    },
    {
      "cell_type": "markdown",
      "metadata": {
        "id": "gzqvJiWkm3MH"
      },
      "source": [
        "**Data Exploration and Preprocessing**"
      ]
    },
    {
      "cell_type": "code",
      "execution_count": 147,
      "metadata": {
        "id": "BTk6AK4Gi7Es"
      },
      "outputs": [],
      "source": [
        "import pandas as pd\n",
        "import numpy as np\n",
        "from sklearn.preprocessing import StandardScaler\n",
        "from sklearn.model_selection import train_test_split\n",
        "import tensorflow as tf\n",
        "from tensorflow.keras.layers import Dense\n",
        "# Dense: to add layers(hidden, output)\n",
        "from tensorflow.keras import Sequential\n",
        "# Sequential: to add layers in sequence, to initialize ann model i.e. initially random weight will be assigned\n",
        "from sklearn.metrics import classification_report\n",
        "import warnings\n",
        "warnings.filterwarnings('ignore')"
      ]
    },
    {
      "cell_type": "code",
      "execution_count": 148,
      "metadata": {
        "id": "niTX-5QJ_T1v"
      },
      "outputs": [],
      "source": [
        "# Load the dataset\n",
        "df = pd.read_csv('Alphabets_data.csv')"
      ]
    },
    {
      "cell_type": "code",
      "execution_count": 149,
      "metadata": {
        "colab": {
          "base_uri": "https://localhost:8080/",
          "height": 206
        },
        "id": "s0JLn3xA_T7n",
        "outputId": "d3f0418b-8e5b-4b50-9a08-3edabcededbf"
      },
      "outputs": [
        {
          "output_type": "execute_result",
          "data": {
            "text/plain": [
              "  letter  xbox  ybox  width  height  onpix  xbar  ybar  x2bar  y2bar  xybar  \\\n",
              "0      T     2     8      3       5      1     8    13      0      6      6   \n",
              "1      I     5    12      3       7      2    10     5      5      4     13   \n",
              "2      D     4    11      6       8      6    10     6      2      6     10   \n",
              "3      N     7    11      6       6      3     5     9      4      6      4   \n",
              "4      G     2     1      3       1      1     8     6      6      6      6   \n",
              "\n",
              "   x2ybar  xy2bar  xedge  xedgey  yedge  yedgex  \n",
              "0      10       8      0       8      0       8  \n",
              "1       3       9      2       8      4      10  \n",
              "2       3       7      3       7      3       9  \n",
              "3       4      10      6      10      2       8  \n",
              "4       5       9      1       7      5      10  "
            ],
            "text/html": [
              "\n",
              "  <div id=\"df-3a811fc1-8a26-406d-a3d0-607f9f2d2910\" class=\"colab-df-container\">\n",
              "    <div>\n",
              "<style scoped>\n",
              "    .dataframe tbody tr th:only-of-type {\n",
              "        vertical-align: middle;\n",
              "    }\n",
              "\n",
              "    .dataframe tbody tr th {\n",
              "        vertical-align: top;\n",
              "    }\n",
              "\n",
              "    .dataframe thead th {\n",
              "        text-align: right;\n",
              "    }\n",
              "</style>\n",
              "<table border=\"1\" class=\"dataframe\">\n",
              "  <thead>\n",
              "    <tr style=\"text-align: right;\">\n",
              "      <th></th>\n",
              "      <th>letter</th>\n",
              "      <th>xbox</th>\n",
              "      <th>ybox</th>\n",
              "      <th>width</th>\n",
              "      <th>height</th>\n",
              "      <th>onpix</th>\n",
              "      <th>xbar</th>\n",
              "      <th>ybar</th>\n",
              "      <th>x2bar</th>\n",
              "      <th>y2bar</th>\n",
              "      <th>xybar</th>\n",
              "      <th>x2ybar</th>\n",
              "      <th>xy2bar</th>\n",
              "      <th>xedge</th>\n",
              "      <th>xedgey</th>\n",
              "      <th>yedge</th>\n",
              "      <th>yedgex</th>\n",
              "    </tr>\n",
              "  </thead>\n",
              "  <tbody>\n",
              "    <tr>\n",
              "      <th>0</th>\n",
              "      <td>T</td>\n",
              "      <td>2</td>\n",
              "      <td>8</td>\n",
              "      <td>3</td>\n",
              "      <td>5</td>\n",
              "      <td>1</td>\n",
              "      <td>8</td>\n",
              "      <td>13</td>\n",
              "      <td>0</td>\n",
              "      <td>6</td>\n",
              "      <td>6</td>\n",
              "      <td>10</td>\n",
              "      <td>8</td>\n",
              "      <td>0</td>\n",
              "      <td>8</td>\n",
              "      <td>0</td>\n",
              "      <td>8</td>\n",
              "    </tr>\n",
              "    <tr>\n",
              "      <th>1</th>\n",
              "      <td>I</td>\n",
              "      <td>5</td>\n",
              "      <td>12</td>\n",
              "      <td>3</td>\n",
              "      <td>7</td>\n",
              "      <td>2</td>\n",
              "      <td>10</td>\n",
              "      <td>5</td>\n",
              "      <td>5</td>\n",
              "      <td>4</td>\n",
              "      <td>13</td>\n",
              "      <td>3</td>\n",
              "      <td>9</td>\n",
              "      <td>2</td>\n",
              "      <td>8</td>\n",
              "      <td>4</td>\n",
              "      <td>10</td>\n",
              "    </tr>\n",
              "    <tr>\n",
              "      <th>2</th>\n",
              "      <td>D</td>\n",
              "      <td>4</td>\n",
              "      <td>11</td>\n",
              "      <td>6</td>\n",
              "      <td>8</td>\n",
              "      <td>6</td>\n",
              "      <td>10</td>\n",
              "      <td>6</td>\n",
              "      <td>2</td>\n",
              "      <td>6</td>\n",
              "      <td>10</td>\n",
              "      <td>3</td>\n",
              "      <td>7</td>\n",
              "      <td>3</td>\n",
              "      <td>7</td>\n",
              "      <td>3</td>\n",
              "      <td>9</td>\n",
              "    </tr>\n",
              "    <tr>\n",
              "      <th>3</th>\n",
              "      <td>N</td>\n",
              "      <td>7</td>\n",
              "      <td>11</td>\n",
              "      <td>6</td>\n",
              "      <td>6</td>\n",
              "      <td>3</td>\n",
              "      <td>5</td>\n",
              "      <td>9</td>\n",
              "      <td>4</td>\n",
              "      <td>6</td>\n",
              "      <td>4</td>\n",
              "      <td>4</td>\n",
              "      <td>10</td>\n",
              "      <td>6</td>\n",
              "      <td>10</td>\n",
              "      <td>2</td>\n",
              "      <td>8</td>\n",
              "    </tr>\n",
              "    <tr>\n",
              "      <th>4</th>\n",
              "      <td>G</td>\n",
              "      <td>2</td>\n",
              "      <td>1</td>\n",
              "      <td>3</td>\n",
              "      <td>1</td>\n",
              "      <td>1</td>\n",
              "      <td>8</td>\n",
              "      <td>6</td>\n",
              "      <td>6</td>\n",
              "      <td>6</td>\n",
              "      <td>6</td>\n",
              "      <td>5</td>\n",
              "      <td>9</td>\n",
              "      <td>1</td>\n",
              "      <td>7</td>\n",
              "      <td>5</td>\n",
              "      <td>10</td>\n",
              "    </tr>\n",
              "  </tbody>\n",
              "</table>\n",
              "</div>\n",
              "    <div class=\"colab-df-buttons\">\n",
              "\n",
              "  <div class=\"colab-df-container\">\n",
              "    <button class=\"colab-df-convert\" onclick=\"convertToInteractive('df-3a811fc1-8a26-406d-a3d0-607f9f2d2910')\"\n",
              "            title=\"Convert this dataframe to an interactive table.\"\n",
              "            style=\"display:none;\">\n",
              "\n",
              "  <svg xmlns=\"http://www.w3.org/2000/svg\" height=\"24px\" viewBox=\"0 -960 960 960\">\n",
              "    <path d=\"M120-120v-720h720v720H120Zm60-500h600v-160H180v160Zm220 220h160v-160H400v160Zm0 220h160v-160H400v160ZM180-400h160v-160H180v160Zm440 0h160v-160H620v160ZM180-180h160v-160H180v160Zm440 0h160v-160H620v160Z\"/>\n",
              "  </svg>\n",
              "    </button>\n",
              "\n",
              "  <style>\n",
              "    .colab-df-container {\n",
              "      display:flex;\n",
              "      gap: 12px;\n",
              "    }\n",
              "\n",
              "    .colab-df-convert {\n",
              "      background-color: #E8F0FE;\n",
              "      border: none;\n",
              "      border-radius: 50%;\n",
              "      cursor: pointer;\n",
              "      display: none;\n",
              "      fill: #1967D2;\n",
              "      height: 32px;\n",
              "      padding: 0 0 0 0;\n",
              "      width: 32px;\n",
              "    }\n",
              "\n",
              "    .colab-df-convert:hover {\n",
              "      background-color: #E2EBFA;\n",
              "      box-shadow: 0px 1px 2px rgba(60, 64, 67, 0.3), 0px 1px 3px 1px rgba(60, 64, 67, 0.15);\n",
              "      fill: #174EA6;\n",
              "    }\n",
              "\n",
              "    .colab-df-buttons div {\n",
              "      margin-bottom: 4px;\n",
              "    }\n",
              "\n",
              "    [theme=dark] .colab-df-convert {\n",
              "      background-color: #3B4455;\n",
              "      fill: #D2E3FC;\n",
              "    }\n",
              "\n",
              "    [theme=dark] .colab-df-convert:hover {\n",
              "      background-color: #434B5C;\n",
              "      box-shadow: 0px 1px 3px 1px rgba(0, 0, 0, 0.15);\n",
              "      filter: drop-shadow(0px 1px 2px rgba(0, 0, 0, 0.3));\n",
              "      fill: #FFFFFF;\n",
              "    }\n",
              "  </style>\n",
              "\n",
              "    <script>\n",
              "      const buttonEl =\n",
              "        document.querySelector('#df-3a811fc1-8a26-406d-a3d0-607f9f2d2910 button.colab-df-convert');\n",
              "      buttonEl.style.display =\n",
              "        google.colab.kernel.accessAllowed ? 'block' : 'none';\n",
              "\n",
              "      async function convertToInteractive(key) {\n",
              "        const element = document.querySelector('#df-3a811fc1-8a26-406d-a3d0-607f9f2d2910');\n",
              "        const dataTable =\n",
              "          await google.colab.kernel.invokeFunction('convertToInteractive',\n",
              "                                                    [key], {});\n",
              "        if (!dataTable) return;\n",
              "\n",
              "        const docLinkHtml = 'Like what you see? Visit the ' +\n",
              "          '<a target=\"_blank\" href=https://colab.research.google.com/notebooks/data_table.ipynb>data table notebook</a>'\n",
              "          + ' to learn more about interactive tables.';\n",
              "        element.innerHTML = '';\n",
              "        dataTable['output_type'] = 'display_data';\n",
              "        await google.colab.output.renderOutput(dataTable, element);\n",
              "        const docLink = document.createElement('div');\n",
              "        docLink.innerHTML = docLinkHtml;\n",
              "        element.appendChild(docLink);\n",
              "      }\n",
              "    </script>\n",
              "  </div>\n",
              "\n",
              "\n",
              "<div id=\"df-d1471439-079f-4c44-81b5-2c9dc275fe0e\">\n",
              "  <button class=\"colab-df-quickchart\" onclick=\"quickchart('df-d1471439-079f-4c44-81b5-2c9dc275fe0e')\"\n",
              "            title=\"Suggest charts\"\n",
              "            style=\"display:none;\">\n",
              "\n",
              "<svg xmlns=\"http://www.w3.org/2000/svg\" height=\"24px\"viewBox=\"0 0 24 24\"\n",
              "     width=\"24px\">\n",
              "    <g>\n",
              "        <path d=\"M19 3H5c-1.1 0-2 .9-2 2v14c0 1.1.9 2 2 2h14c1.1 0 2-.9 2-2V5c0-1.1-.9-2-2-2zM9 17H7v-7h2v7zm4 0h-2V7h2v10zm4 0h-2v-4h2v4z\"/>\n",
              "    </g>\n",
              "</svg>\n",
              "  </button>\n",
              "\n",
              "<style>\n",
              "  .colab-df-quickchart {\n",
              "      --bg-color: #E8F0FE;\n",
              "      --fill-color: #1967D2;\n",
              "      --hover-bg-color: #E2EBFA;\n",
              "      --hover-fill-color: #174EA6;\n",
              "      --disabled-fill-color: #AAA;\n",
              "      --disabled-bg-color: #DDD;\n",
              "  }\n",
              "\n",
              "  [theme=dark] .colab-df-quickchart {\n",
              "      --bg-color: #3B4455;\n",
              "      --fill-color: #D2E3FC;\n",
              "      --hover-bg-color: #434B5C;\n",
              "      --hover-fill-color: #FFFFFF;\n",
              "      --disabled-bg-color: #3B4455;\n",
              "      --disabled-fill-color: #666;\n",
              "  }\n",
              "\n",
              "  .colab-df-quickchart {\n",
              "    background-color: var(--bg-color);\n",
              "    border: none;\n",
              "    border-radius: 50%;\n",
              "    cursor: pointer;\n",
              "    display: none;\n",
              "    fill: var(--fill-color);\n",
              "    height: 32px;\n",
              "    padding: 0;\n",
              "    width: 32px;\n",
              "  }\n",
              "\n",
              "  .colab-df-quickchart:hover {\n",
              "    background-color: var(--hover-bg-color);\n",
              "    box-shadow: 0 1px 2px rgba(60, 64, 67, 0.3), 0 1px 3px 1px rgba(60, 64, 67, 0.15);\n",
              "    fill: var(--button-hover-fill-color);\n",
              "  }\n",
              "\n",
              "  .colab-df-quickchart-complete:disabled,\n",
              "  .colab-df-quickchart-complete:disabled:hover {\n",
              "    background-color: var(--disabled-bg-color);\n",
              "    fill: var(--disabled-fill-color);\n",
              "    box-shadow: none;\n",
              "  }\n",
              "\n",
              "  .colab-df-spinner {\n",
              "    border: 2px solid var(--fill-color);\n",
              "    border-color: transparent;\n",
              "    border-bottom-color: var(--fill-color);\n",
              "    animation:\n",
              "      spin 1s steps(1) infinite;\n",
              "  }\n",
              "\n",
              "  @keyframes spin {\n",
              "    0% {\n",
              "      border-color: transparent;\n",
              "      border-bottom-color: var(--fill-color);\n",
              "      border-left-color: var(--fill-color);\n",
              "    }\n",
              "    20% {\n",
              "      border-color: transparent;\n",
              "      border-left-color: var(--fill-color);\n",
              "      border-top-color: var(--fill-color);\n",
              "    }\n",
              "    30% {\n",
              "      border-color: transparent;\n",
              "      border-left-color: var(--fill-color);\n",
              "      border-top-color: var(--fill-color);\n",
              "      border-right-color: var(--fill-color);\n",
              "    }\n",
              "    40% {\n",
              "      border-color: transparent;\n",
              "      border-right-color: var(--fill-color);\n",
              "      border-top-color: var(--fill-color);\n",
              "    }\n",
              "    60% {\n",
              "      border-color: transparent;\n",
              "      border-right-color: var(--fill-color);\n",
              "    }\n",
              "    80% {\n",
              "      border-color: transparent;\n",
              "      border-right-color: var(--fill-color);\n",
              "      border-bottom-color: var(--fill-color);\n",
              "    }\n",
              "    90% {\n",
              "      border-color: transparent;\n",
              "      border-bottom-color: var(--fill-color);\n",
              "    }\n",
              "  }\n",
              "</style>\n",
              "\n",
              "  <script>\n",
              "    async function quickchart(key) {\n",
              "      const quickchartButtonEl =\n",
              "        document.querySelector('#' + key + ' button');\n",
              "      quickchartButtonEl.disabled = true;  // To prevent multiple clicks.\n",
              "      quickchartButtonEl.classList.add('colab-df-spinner');\n",
              "      try {\n",
              "        const charts = await google.colab.kernel.invokeFunction(\n",
              "            'suggestCharts', [key], {});\n",
              "      } catch (error) {\n",
              "        console.error('Error during call to suggestCharts:', error);\n",
              "      }\n",
              "      quickchartButtonEl.classList.remove('colab-df-spinner');\n",
              "      quickchartButtonEl.classList.add('colab-df-quickchart-complete');\n",
              "    }\n",
              "    (() => {\n",
              "      let quickchartButtonEl =\n",
              "        document.querySelector('#df-d1471439-079f-4c44-81b5-2c9dc275fe0e button');\n",
              "      quickchartButtonEl.style.display =\n",
              "        google.colab.kernel.accessAllowed ? 'block' : 'none';\n",
              "    })();\n",
              "  </script>\n",
              "</div>\n",
              "\n",
              "    </div>\n",
              "  </div>\n"
            ],
            "application/vnd.google.colaboratory.intrinsic+json": {
              "type": "dataframe",
              "variable_name": "df",
              "summary": "{\n  \"name\": \"df\",\n  \"rows\": 20000,\n  \"fields\": [\n    {\n      \"column\": \"letter\",\n      \"properties\": {\n        \"dtype\": \"category\",\n        \"num_unique_values\": 26,\n        \"samples\": [\n          \"J\",\n          \"W\",\n          \"T\"\n        ],\n        \"semantic_type\": \"\",\n        \"description\": \"\"\n      }\n    },\n    {\n      \"column\": \"xbox\",\n      \"properties\": {\n        \"dtype\": \"number\",\n        \"std\": 1,\n        \"min\": 0,\n        \"max\": 15,\n        \"num_unique_values\": 16,\n        \"samples\": [\n          2,\n          5,\n          11\n        ],\n        \"semantic_type\": \"\",\n        \"description\": \"\"\n      }\n    },\n    {\n      \"column\": \"ybox\",\n      \"properties\": {\n        \"dtype\": \"number\",\n        \"std\": 3,\n        \"min\": 0,\n        \"max\": 15,\n        \"num_unique_values\": 16,\n        \"samples\": [\n          8,\n          12,\n          15\n        ],\n        \"semantic_type\": \"\",\n        \"description\": \"\"\n      }\n    },\n    {\n      \"column\": \"width\",\n      \"properties\": {\n        \"dtype\": \"number\",\n        \"std\": 2,\n        \"min\": 0,\n        \"max\": 15,\n        \"num_unique_values\": 16,\n        \"samples\": [\n          3,\n          6,\n          8\n        ],\n        \"semantic_type\": \"\",\n        \"description\": \"\"\n      }\n    },\n    {\n      \"column\": \"height\",\n      \"properties\": {\n        \"dtype\": \"number\",\n        \"std\": 2,\n        \"min\": 0,\n        \"max\": 15,\n        \"num_unique_values\": 16,\n        \"samples\": [\n          5,\n          7,\n          4\n        ],\n        \"semantic_type\": \"\",\n        \"description\": \"\"\n      }\n    },\n    {\n      \"column\": \"onpix\",\n      \"properties\": {\n        \"dtype\": \"number\",\n        \"std\": 2,\n        \"min\": 0,\n        \"max\": 15,\n        \"num_unique_values\": 16,\n        \"samples\": [\n          1,\n          2,\n          7\n        ],\n        \"semantic_type\": \"\",\n        \"description\": \"\"\n      }\n    },\n    {\n      \"column\": \"xbar\",\n      \"properties\": {\n        \"dtype\": \"number\",\n        \"std\": 2,\n        \"min\": 0,\n        \"max\": 15,\n        \"num_unique_values\": 16,\n        \"samples\": [\n          8,\n          10,\n          7\n        ],\n        \"semantic_type\": \"\",\n        \"description\": \"\"\n      }\n    },\n    {\n      \"column\": \"ybar\",\n      \"properties\": {\n        \"dtype\": \"number\",\n        \"std\": 2,\n        \"min\": 0,\n        \"max\": 15,\n        \"num_unique_values\": 16,\n        \"samples\": [\n          13,\n          5,\n          7\n        ],\n        \"semantic_type\": \"\",\n        \"description\": \"\"\n      }\n    },\n    {\n      \"column\": \"x2bar\",\n      \"properties\": {\n        \"dtype\": \"number\",\n        \"std\": 2,\n        \"min\": 0,\n        \"max\": 15,\n        \"num_unique_values\": 16,\n        \"samples\": [\n          0,\n          5,\n          3\n        ],\n        \"semantic_type\": \"\",\n        \"description\": \"\"\n      }\n    },\n    {\n      \"column\": \"y2bar\",\n      \"properties\": {\n        \"dtype\": \"number\",\n        \"std\": 2,\n        \"min\": 0,\n        \"max\": 15,\n        \"num_unique_values\": 16,\n        \"samples\": [\n          6,\n          4,\n          3\n        ],\n        \"semantic_type\": \"\",\n        \"description\": \"\"\n      }\n    },\n    {\n      \"column\": \"xybar\",\n      \"properties\": {\n        \"dtype\": \"number\",\n        \"std\": 2,\n        \"min\": 0,\n        \"max\": 15,\n        \"num_unique_values\": 16,\n        \"samples\": [\n          6,\n          13,\n          7\n        ],\n        \"semantic_type\": \"\",\n        \"description\": \"\"\n      }\n    },\n    {\n      \"column\": \"x2ybar\",\n      \"properties\": {\n        \"dtype\": \"number\",\n        \"std\": 2,\n        \"min\": 0,\n        \"max\": 15,\n        \"num_unique_values\": 16,\n        \"samples\": [\n          10,\n          3,\n          2\n        ],\n        \"semantic_type\": \"\",\n        \"description\": \"\"\n      }\n    },\n    {\n      \"column\": \"xy2bar\",\n      \"properties\": {\n        \"dtype\": \"number\",\n        \"std\": 2,\n        \"min\": 0,\n        \"max\": 15,\n        \"num_unique_values\": 16,\n        \"samples\": [\n          8,\n          9,\n          11\n        ],\n        \"semantic_type\": \"\",\n        \"description\": \"\"\n      }\n    },\n    {\n      \"column\": \"xedge\",\n      \"properties\": {\n        \"dtype\": \"number\",\n        \"std\": 2,\n        \"min\": 0,\n        \"max\": 15,\n        \"num_unique_values\": 16,\n        \"samples\": [\n          0,\n          2,\n          8\n        ],\n        \"semantic_type\": \"\",\n        \"description\": \"\"\n      }\n    },\n    {\n      \"column\": \"xedgey\",\n      \"properties\": {\n        \"dtype\": \"number\",\n        \"std\": 1,\n        \"min\": 0,\n        \"max\": 15,\n        \"num_unique_values\": 16,\n        \"samples\": [\n          8,\n          7,\n          9\n        ],\n        \"semantic_type\": \"\",\n        \"description\": \"\"\n      }\n    },\n    {\n      \"column\": \"yedge\",\n      \"properties\": {\n        \"dtype\": \"number\",\n        \"std\": 2,\n        \"min\": 0,\n        \"max\": 15,\n        \"num_unique_values\": 16,\n        \"samples\": [\n          0,\n          4,\n          9\n        ],\n        \"semantic_type\": \"\",\n        \"description\": \"\"\n      }\n    },\n    {\n      \"column\": \"yedgex\",\n      \"properties\": {\n        \"dtype\": \"number\",\n        \"std\": 1,\n        \"min\": 0,\n        \"max\": 15,\n        \"num_unique_values\": 16,\n        \"samples\": [\n          8,\n          10,\n          11\n        ],\n        \"semantic_type\": \"\",\n        \"description\": \"\"\n      }\n    }\n  ]\n}"
            }
          },
          "metadata": {},
          "execution_count": 149
        }
      ],
      "source": [
        "df.head()"
      ]
    },
    {
      "cell_type": "code",
      "execution_count": 150,
      "metadata": {
        "colab": {
          "base_uri": "https://localhost:8080/"
        },
        "id": "5tsD1Pt3_T_A",
        "outputId": "83f3b493-29e1-42a8-a13f-8eb1a569e76d"
      },
      "outputs": [
        {
          "output_type": "stream",
          "name": "stdout",
          "text": [
            "<class 'pandas.core.frame.DataFrame'>\n",
            "RangeIndex: 20000 entries, 0 to 19999\n",
            "Data columns (total 17 columns):\n",
            " #   Column  Non-Null Count  Dtype \n",
            "---  ------  --------------  ----- \n",
            " 0   letter  20000 non-null  object\n",
            " 1   xbox    20000 non-null  int64 \n",
            " 2   ybox    20000 non-null  int64 \n",
            " 3   width   20000 non-null  int64 \n",
            " 4   height  20000 non-null  int64 \n",
            " 5   onpix   20000 non-null  int64 \n",
            " 6   xbar    20000 non-null  int64 \n",
            " 7   ybar    20000 non-null  int64 \n",
            " 8   x2bar   20000 non-null  int64 \n",
            " 9   y2bar   20000 non-null  int64 \n",
            " 10  xybar   20000 non-null  int64 \n",
            " 11  x2ybar  20000 non-null  int64 \n",
            " 12  xy2bar  20000 non-null  int64 \n",
            " 13  xedge   20000 non-null  int64 \n",
            " 14  xedgey  20000 non-null  int64 \n",
            " 15  yedge   20000 non-null  int64 \n",
            " 16  yedgex  20000 non-null  int64 \n",
            "dtypes: int64(16), object(1)\n",
            "memory usage: 2.6+ MB\n",
            "None\n"
          ]
        }
      ],
      "source": [
        "# Display basic information about the dataset\n",
        "print(df.info())\n"
      ]
    },
    {
      "cell_type": "code",
      "execution_count": 154,
      "metadata": {
        "id": "hG_JuUEc_UBk"
      },
      "outputs": [],
      "source": [
        "# Number of samples and features\n",
        "num_samples = df.shape[0]\n",
        "num_features = df.shape[1] - 1"
      ]
    },
    {
      "cell_type": "code",
      "execution_count": 155,
      "metadata": {
        "id": "NQvVFENAESfb"
      },
      "outputs": [],
      "source": [
        "# Number of classes\n",
        "num_classes = df['letter'].nunique()"
      ]
    },
    {
      "cell_type": "code",
      "execution_count": 156,
      "metadata": {
        "colab": {
          "base_uri": "https://localhost:8080/"
        },
        "id": "jS6nHYhqBooH",
        "outputId": "e57da3f2-155a-44ff-feb5-3ab43753bf3d"
      },
      "outputs": [
        {
          "output_type": "stream",
          "name": "stdout",
          "text": [
            "Number of samples: 20000\n",
            "Number of features: 16\n",
            "Number of classes: 26\n"
          ]
        }
      ],
      "source": [
        "print(f'Number of samples: {num_samples}')\n",
        "print(f'Number of features: {num_features}')\n",
        "print(f'Number of classes: {num_classes}')"
      ]
    },
    {
      "cell_type": "code",
      "execution_count": 157,
      "metadata": {
        "id": "dK-F98bPBouS"
      },
      "outputs": [],
      "source": [
        "#Data Preprocessing\n",
        "from sklearn.preprocessing import StandardScaler"
      ]
    },
    {
      "cell_type": "code",
      "execution_count": 158,
      "metadata": {
        "colab": {
          "base_uri": "https://localhost:8080/"
        },
        "id": "H6aMTSGLCMS_",
        "outputId": "60a9f19d-ca2f-4c72-deac-3dc4c3aabbf4"
      },
      "outputs": [
        {
          "output_type": "stream",
          "name": "stdout",
          "text": [
            "Missing values in each column:\n",
            "letter    0\n",
            "xbox      0\n",
            "ybox      0\n",
            "width     0\n",
            "height    0\n",
            "onpix     0\n",
            "xbar      0\n",
            "ybar      0\n",
            "x2bar     0\n",
            "y2bar     0\n",
            "xybar     0\n",
            "x2ybar    0\n",
            "xy2bar    0\n",
            "xedge     0\n",
            "xedgey    0\n",
            "yedge     0\n",
            "yedgex    0\n",
            "dtype: int64\n"
          ]
        }
      ],
      "source": [
        "# Check for missing values\n",
        "missing_values = df.isnull().sum()\n",
        "print('Missing values in each column:')\n",
        "print(missing_values)"
      ]
    },
    {
      "cell_type": "code",
      "execution_count": 159,
      "metadata": {
        "id": "NpnFu0m5CMVX"
      },
      "outputs": [],
      "source": [
        "# Drop rows with missing values (if any)\n",
        "df.dropna(inplace=True)"
      ]
    },
    {
      "cell_type": "code",
      "execution_count": 160,
      "metadata": {
        "id": "sstBbP6LDU_v"
      },
      "outputs": [],
      "source": [
        "\n",
        "# Separate features and target variable\n",
        "X = df.drop('letter', axis=1)\n",
        "y = df['letter']\n"
      ]
    },
    {
      "cell_type": "code",
      "execution_count": 161,
      "metadata": {
        "id": "qW-3IvVaFCAJ"
      },
      "outputs": [],
      "source": [
        "# Normalize the features\n",
        "scaler = StandardScaler()\n",
        "X_normalized = scaler.fit_transform(X)"
      ]
    },
    {
      "cell_type": "code",
      "execution_count": 162,
      "metadata": {
        "id": "2LYoMCAKCMaa"
      },
      "outputs": [],
      "source": [
        "# Encode the target variable (if it's not already numerical)\n",
        "from sklearn.preprocessing import LabelEncoder"
      ]
    },
    {
      "cell_type": "code",
      "execution_count": 163,
      "metadata": {
        "id": "KZk7_nV2CxrA"
      },
      "outputs": [],
      "source": [
        "encoder = LabelEncoder()\n",
        "y_encoded = encoder.fit_transform(y)"
      ]
    },
    {
      "cell_type": "markdown",
      "metadata": {
        "id": "2NfWiZKeDlKC"
      },
      "source": [
        "# **Model Implementation**"
      ]
    },
    {
      "cell_type": "markdown",
      "metadata": {
        "id": "Gidl50cEDqPZ"
      },
      "source": [
        " Construct a Basic ANN Model"
      ]
    },
    {
      "cell_type": "code",
      "execution_count": 164,
      "metadata": {
        "id": "Y7bU3YlUCxte"
      },
      "outputs": [],
      "source": [
        "import tensorflow as tf\n",
        "from tensorflow.keras.models import Sequential\n",
        "from tensorflow.keras.layers import Dense"
      ]
    },
    {
      "cell_type": "code",
      "execution_count": 165,
      "metadata": {
        "id": "09AweqvVCxv5"
      },
      "outputs": [],
      "source": [
        "# Define the ANN model\n",
        "model = Sequential()\n",
        "model.add(Dense(64, input_dim=num_features, activation='relu'))\n",
        "model.add(Dense(32, activation='relu'))\n",
        "model.add(Dense(num_classes, activation='softmax'))\n"
      ]
    },
    {
      "cell_type": "code",
      "execution_count": 166,
      "metadata": {
        "id": "Hy30eytVCxyP"
      },
      "outputs": [],
      "source": [
        "# Compile the model\n",
        "model.compile(optimizer='adam', loss='sparse_categorical_crossentropy', metrics=['accuracy'])"
      ]
    },
    {
      "cell_type": "markdown",
      "metadata": {
        "id": "ppncaRliEtEG"
      },
      "source": [
        " Split the Dataset"
      ]
    },
    {
      "cell_type": "code",
      "execution_count": 167,
      "metadata": {
        "id": "6dRqPiNCEsqN"
      },
      "outputs": [],
      "source": [
        "from sklearn.model_selection import train_test_split\n",
        "\n",
        "X_train, X_test, y_train, y_test = train_test_split(X_normalized, y_encoded, test_size=0.2, random_state=42)\n"
      ]
    },
    {
      "cell_type": "markdown",
      "metadata": {
        "id": "vN4pW9XVFKP9"
      },
      "source": [
        "Train and Evaluate the Model"
      ]
    },
    {
      "cell_type": "code",
      "execution_count": 168,
      "metadata": {
        "colab": {
          "base_uri": "https://localhost:8080/"
        },
        "id": "Iw1mJHUOEwPj",
        "outputId": "2aeac971-7dd4-4e55-f67e-b9aa69b71e1f"
      },
      "outputs": [
        {
          "output_type": "stream",
          "name": "stdout",
          "text": [
            "Epoch 1/50\n",
            "400/400 [==============================] - 2s 4ms/step - loss: 2.0908 - accuracy: 0.4288 - val_loss: 1.2281 - val_accuracy: 0.6819\n",
            "Epoch 2/50\n",
            "400/400 [==============================] - 1s 3ms/step - loss: 0.9645 - accuracy: 0.7304 - val_loss: 0.8510 - val_accuracy: 0.7625\n",
            "Epoch 3/50\n",
            "400/400 [==============================] - 1s 3ms/step - loss: 0.7426 - accuracy: 0.7878 - val_loss: 0.7240 - val_accuracy: 0.7887\n",
            "Epoch 4/50\n",
            "400/400 [==============================] - 1s 4ms/step - loss: 0.6310 - accuracy: 0.8159 - val_loss: 0.6230 - val_accuracy: 0.8244\n",
            "Epoch 5/50\n",
            "400/400 [==============================] - 2s 5ms/step - loss: 0.5561 - accuracy: 0.8341 - val_loss: 0.5612 - val_accuracy: 0.8381\n",
            "Epoch 6/50\n",
            "400/400 [==============================] - 2s 5ms/step - loss: 0.4968 - accuracy: 0.8523 - val_loss: 0.5121 - val_accuracy: 0.8487\n",
            "Epoch 7/50\n",
            "400/400 [==============================] - 1s 3ms/step - loss: 0.4514 - accuracy: 0.8659 - val_loss: 0.4658 - val_accuracy: 0.8647\n",
            "Epoch 8/50\n",
            "400/400 [==============================] - 1s 3ms/step - loss: 0.4121 - accuracy: 0.8771 - val_loss: 0.4339 - val_accuracy: 0.8722\n",
            "Epoch 9/50\n",
            "400/400 [==============================] - 1s 3ms/step - loss: 0.3806 - accuracy: 0.8884 - val_loss: 0.4062 - val_accuracy: 0.8841\n",
            "Epoch 10/50\n",
            "400/400 [==============================] - 1s 3ms/step - loss: 0.3517 - accuracy: 0.8943 - val_loss: 0.3823 - val_accuracy: 0.8884\n",
            "Epoch 11/50\n",
            "400/400 [==============================] - 1s 3ms/step - loss: 0.3260 - accuracy: 0.9019 - val_loss: 0.3660 - val_accuracy: 0.8897\n",
            "Epoch 12/50\n",
            "400/400 [==============================] - 1s 3ms/step - loss: 0.3058 - accuracy: 0.9068 - val_loss: 0.3508 - val_accuracy: 0.8959\n",
            "Epoch 13/50\n",
            "400/400 [==============================] - 1s 3ms/step - loss: 0.2904 - accuracy: 0.9139 - val_loss: 0.3275 - val_accuracy: 0.9025\n",
            "Epoch 14/50\n",
            "400/400 [==============================] - 1s 3ms/step - loss: 0.2728 - accuracy: 0.9179 - val_loss: 0.3221 - val_accuracy: 0.9047\n",
            "Epoch 15/50\n",
            "400/400 [==============================] - 2s 4ms/step - loss: 0.2571 - accuracy: 0.9214 - val_loss: 0.3069 - val_accuracy: 0.9125\n",
            "Epoch 16/50\n",
            "400/400 [==============================] - 2s 5ms/step - loss: 0.2460 - accuracy: 0.9249 - val_loss: 0.3046 - val_accuracy: 0.9131\n",
            "Epoch 17/50\n",
            "400/400 [==============================] - 1s 3ms/step - loss: 0.2327 - accuracy: 0.9302 - val_loss: 0.2922 - val_accuracy: 0.9112\n",
            "Epoch 18/50\n",
            "400/400 [==============================] - 1s 3ms/step - loss: 0.2228 - accuracy: 0.9328 - val_loss: 0.2823 - val_accuracy: 0.9119\n",
            "Epoch 19/50\n",
            "400/400 [==============================] - 1s 3ms/step - loss: 0.2117 - accuracy: 0.9351 - val_loss: 0.2787 - val_accuracy: 0.9153\n",
            "Epoch 20/50\n",
            "400/400 [==============================] - 1s 3ms/step - loss: 0.2050 - accuracy: 0.9366 - val_loss: 0.2730 - val_accuracy: 0.9184\n",
            "Epoch 21/50\n",
            "400/400 [==============================] - 1s 3ms/step - loss: 0.1960 - accuracy: 0.9410 - val_loss: 0.2687 - val_accuracy: 0.9191\n",
            "Epoch 22/50\n",
            "400/400 [==============================] - 1s 3ms/step - loss: 0.1881 - accuracy: 0.9441 - val_loss: 0.2743 - val_accuracy: 0.9106\n",
            "Epoch 23/50\n",
            "400/400 [==============================] - 1s 3ms/step - loss: 0.1806 - accuracy: 0.9455 - val_loss: 0.2696 - val_accuracy: 0.9175\n",
            "Epoch 24/50\n",
            "400/400 [==============================] - 1s 3ms/step - loss: 0.1758 - accuracy: 0.9438 - val_loss: 0.2519 - val_accuracy: 0.9209\n",
            "Epoch 25/50\n",
            "400/400 [==============================] - 1s 3ms/step - loss: 0.1705 - accuracy: 0.9466 - val_loss: 0.2513 - val_accuracy: 0.9200\n",
            "Epoch 26/50\n",
            "400/400 [==============================] - 2s 4ms/step - loss: 0.1652 - accuracy: 0.9482 - val_loss: 0.2507 - val_accuracy: 0.9197\n",
            "Epoch 27/50\n",
            "400/400 [==============================] - 2s 5ms/step - loss: 0.1588 - accuracy: 0.9513 - val_loss: 0.2435 - val_accuracy: 0.9219\n",
            "Epoch 28/50\n",
            "400/400 [==============================] - 2s 4ms/step - loss: 0.1539 - accuracy: 0.9514 - val_loss: 0.2408 - val_accuracy: 0.9237\n",
            "Epoch 29/50\n",
            "400/400 [==============================] - 1s 3ms/step - loss: 0.1484 - accuracy: 0.9526 - val_loss: 0.2392 - val_accuracy: 0.9266\n",
            "Epoch 30/50\n",
            "400/400 [==============================] - 1s 3ms/step - loss: 0.1443 - accuracy: 0.9541 - val_loss: 0.2321 - val_accuracy: 0.9278\n",
            "Epoch 31/50\n",
            "400/400 [==============================] - 1s 3ms/step - loss: 0.1408 - accuracy: 0.9568 - val_loss: 0.2370 - val_accuracy: 0.9244\n",
            "Epoch 32/50\n",
            "400/400 [==============================] - 1s 3ms/step - loss: 0.1357 - accuracy: 0.9574 - val_loss: 0.2309 - val_accuracy: 0.9294\n",
            "Epoch 33/50\n",
            "400/400 [==============================] - 1s 3ms/step - loss: 0.1317 - accuracy: 0.9590 - val_loss: 0.2297 - val_accuracy: 0.9281\n",
            "Epoch 34/50\n",
            "400/400 [==============================] - 1s 3ms/step - loss: 0.1279 - accuracy: 0.9592 - val_loss: 0.2310 - val_accuracy: 0.9306\n",
            "Epoch 35/50\n",
            "400/400 [==============================] - 1s 3ms/step - loss: 0.1246 - accuracy: 0.9619 - val_loss: 0.2197 - val_accuracy: 0.9319\n",
            "Epoch 36/50\n",
            "400/400 [==============================] - 1s 3ms/step - loss: 0.1222 - accuracy: 0.9609 - val_loss: 0.2265 - val_accuracy: 0.9291\n",
            "Epoch 37/50\n",
            "400/400 [==============================] - 2s 4ms/step - loss: 0.1188 - accuracy: 0.9617 - val_loss: 0.2212 - val_accuracy: 0.9291\n",
            "Epoch 38/50\n",
            "400/400 [==============================] - 2s 5ms/step - loss: 0.1167 - accuracy: 0.9619 - val_loss: 0.2216 - val_accuracy: 0.9297\n",
            "Epoch 39/50\n",
            "400/400 [==============================] - 2s 4ms/step - loss: 0.1124 - accuracy: 0.9648 - val_loss: 0.2222 - val_accuracy: 0.9262\n",
            "Epoch 40/50\n",
            "400/400 [==============================] - 1s 2ms/step - loss: 0.1089 - accuracy: 0.9654 - val_loss: 0.2278 - val_accuracy: 0.9269\n",
            "Epoch 41/50\n",
            "400/400 [==============================] - 1s 3ms/step - loss: 0.1066 - accuracy: 0.9653 - val_loss: 0.2129 - val_accuracy: 0.9344\n",
            "Epoch 42/50\n",
            "400/400 [==============================] - 1s 3ms/step - loss: 0.1030 - accuracy: 0.9688 - val_loss: 0.2103 - val_accuracy: 0.9337\n",
            "Epoch 43/50\n",
            "400/400 [==============================] - 1s 3ms/step - loss: 0.1015 - accuracy: 0.9677 - val_loss: 0.2138 - val_accuracy: 0.9344\n",
            "Epoch 44/50\n",
            "400/400 [==============================] - 1s 3ms/step - loss: 0.0978 - accuracy: 0.9682 - val_loss: 0.2145 - val_accuracy: 0.9344\n",
            "Epoch 45/50\n",
            "400/400 [==============================] - 1s 3ms/step - loss: 0.0946 - accuracy: 0.9708 - val_loss: 0.2230 - val_accuracy: 0.9272\n",
            "Epoch 46/50\n",
            "400/400 [==============================] - 1s 3ms/step - loss: 0.0935 - accuracy: 0.9708 - val_loss: 0.2233 - val_accuracy: 0.9312\n",
            "Epoch 47/50\n",
            "400/400 [==============================] - 1s 3ms/step - loss: 0.0899 - accuracy: 0.9720 - val_loss: 0.2096 - val_accuracy: 0.9331\n",
            "Epoch 48/50\n",
            "400/400 [==============================] - 2s 6ms/step - loss: 0.0887 - accuracy: 0.9735 - val_loss: 0.2067 - val_accuracy: 0.9366\n",
            "Epoch 49/50\n",
            "400/400 [==============================] - 3s 9ms/step - loss: 0.0839 - accuracy: 0.9744 - val_loss: 0.2131 - val_accuracy: 0.9341\n",
            "Epoch 50/50\n",
            "400/400 [==============================] - 2s 6ms/step - loss: 0.0857 - accuracy: 0.9729 - val_loss: 0.2061 - val_accuracy: 0.9350\n"
          ]
        }
      ],
      "source": [
        "# Train the model\n",
        "history = model.fit(X_train, y_train, epochs=50, batch_size=32, validation_split=0.2)\n"
      ]
    },
    {
      "cell_type": "code",
      "execution_count": 169,
      "metadata": {
        "id": "zX2ROn9tEwSa",
        "colab": {
          "base_uri": "https://localhost:8080/"
        },
        "outputId": "31914c75-4f0a-4953-f7cc-5afca5fdd5fd"
      },
      "outputs": [
        {
          "output_type": "stream",
          "name": "stdout",
          "text": [
            "125/125 [==============================] - 1s 5ms/step - loss: 0.2047 - accuracy: 0.9383\n",
            "Test accuracy: 0.9382500052452087\n"
          ]
        }
      ],
      "source": [
        "# Evaluate the model on the test set\n",
        "test_loss, test_accuracy = model.evaluate(X_test, y_test)\n",
        "print(f'Test accuracy: {test_accuracy}')"
      ]
    },
    {
      "cell_type": "markdown",
      "metadata": {
        "id": "xU8QPc9iFffp"
      },
      "source": [
        "# **Hyperparameter Tuning**"
      ]
    },
    {
      "cell_type": "code",
      "execution_count": 170,
      "metadata": {
        "colab": {
          "base_uri": "https://localhost:8080/"
        },
        "id": "oJ54cHMLHmzL",
        "outputId": "d135e6f4-cd06-4b99-8c9f-73199e5bf5b6"
      },
      "outputs": [
        {
          "output_type": "stream",
          "name": "stdout",
          "text": [
            "Requirement already satisfied: tensorflow in /usr/local/lib/python3.10/dist-packages (2.15.0)\n",
            "Requirement already satisfied: absl-py>=1.0.0 in /usr/local/lib/python3.10/dist-packages (from tensorflow) (1.4.0)\n",
            "Requirement already satisfied: astunparse>=1.6.0 in /usr/local/lib/python3.10/dist-packages (from tensorflow) (1.6.3)\n",
            "Requirement already satisfied: flatbuffers>=23.5.26 in /usr/local/lib/python3.10/dist-packages (from tensorflow) (24.3.25)\n",
            "Requirement already satisfied: gast!=0.5.0,!=0.5.1,!=0.5.2,>=0.2.1 in /usr/local/lib/python3.10/dist-packages (from tensorflow) (0.5.4)\n",
            "Requirement already satisfied: google-pasta>=0.1.1 in /usr/local/lib/python3.10/dist-packages (from tensorflow) (0.2.0)\n",
            "Requirement already satisfied: h5py>=2.9.0 in /usr/local/lib/python3.10/dist-packages (from tensorflow) (3.9.0)\n",
            "Requirement already satisfied: libclang>=13.0.0 in /usr/local/lib/python3.10/dist-packages (from tensorflow) (18.1.1)\n",
            "Requirement already satisfied: ml-dtypes~=0.2.0 in /usr/local/lib/python3.10/dist-packages (from tensorflow) (0.2.0)\n",
            "Requirement already satisfied: numpy<2.0.0,>=1.23.5 in /usr/local/lib/python3.10/dist-packages (from tensorflow) (1.25.2)\n",
            "Requirement already satisfied: opt-einsum>=2.3.2 in /usr/local/lib/python3.10/dist-packages (from tensorflow) (3.3.0)\n",
            "Requirement already satisfied: packaging in /usr/local/lib/python3.10/dist-packages (from tensorflow) (24.1)\n",
            "Requirement already satisfied: protobuf!=4.21.0,!=4.21.1,!=4.21.2,!=4.21.3,!=4.21.4,!=4.21.5,<5.0.0dev,>=3.20.3 in /usr/local/lib/python3.10/dist-packages (from tensorflow) (3.20.3)\n",
            "Requirement already satisfied: setuptools in /usr/local/lib/python3.10/dist-packages (from tensorflow) (67.7.2)\n",
            "Requirement already satisfied: six>=1.12.0 in /usr/local/lib/python3.10/dist-packages (from tensorflow) (1.16.0)\n",
            "Requirement already satisfied: termcolor>=1.1.0 in /usr/local/lib/python3.10/dist-packages (from tensorflow) (2.4.0)\n",
            "Requirement already satisfied: typing-extensions>=3.6.6 in /usr/local/lib/python3.10/dist-packages (from tensorflow) (4.12.2)\n",
            "Requirement already satisfied: wrapt<1.15,>=1.11.0 in /usr/local/lib/python3.10/dist-packages (from tensorflow) (1.14.1)\n",
            "Requirement already satisfied: tensorflow-io-gcs-filesystem>=0.23.1 in /usr/local/lib/python3.10/dist-packages (from tensorflow) (0.37.0)\n",
            "Requirement already satisfied: grpcio<2.0,>=1.24.3 in /usr/local/lib/python3.10/dist-packages (from tensorflow) (1.64.1)\n",
            "Requirement already satisfied: tensorboard<2.16,>=2.15 in /usr/local/lib/python3.10/dist-packages (from tensorflow) (2.15.2)\n",
            "Requirement already satisfied: tensorflow-estimator<2.16,>=2.15.0 in /usr/local/lib/python3.10/dist-packages (from tensorflow) (2.15.0)\n",
            "Requirement already satisfied: keras<2.16,>=2.15.0 in /usr/local/lib/python3.10/dist-packages (from tensorflow) (2.15.0)\n",
            "Requirement already satisfied: wheel<1.0,>=0.23.0 in /usr/local/lib/python3.10/dist-packages (from astunparse>=1.6.0->tensorflow) (0.43.0)\n",
            "Requirement already satisfied: google-auth<3,>=1.6.3 in /usr/local/lib/python3.10/dist-packages (from tensorboard<2.16,>=2.15->tensorflow) (2.27.0)\n",
            "Requirement already satisfied: google-auth-oauthlib<2,>=0.5 in /usr/local/lib/python3.10/dist-packages (from tensorboard<2.16,>=2.15->tensorflow) (1.2.0)\n",
            "Requirement already satisfied: markdown>=2.6.8 in /usr/local/lib/python3.10/dist-packages (from tensorboard<2.16,>=2.15->tensorflow) (3.6)\n",
            "Requirement already satisfied: requests<3,>=2.21.0 in /usr/local/lib/python3.10/dist-packages (from tensorboard<2.16,>=2.15->tensorflow) (2.31.0)\n",
            "Requirement already satisfied: tensorboard-data-server<0.8.0,>=0.7.0 in /usr/local/lib/python3.10/dist-packages (from tensorboard<2.16,>=2.15->tensorflow) (0.7.2)\n",
            "Requirement already satisfied: werkzeug>=1.0.1 in /usr/local/lib/python3.10/dist-packages (from tensorboard<2.16,>=2.15->tensorflow) (3.0.3)\n",
            "Requirement already satisfied: cachetools<6.0,>=2.0.0 in /usr/local/lib/python3.10/dist-packages (from google-auth<3,>=1.6.3->tensorboard<2.16,>=2.15->tensorflow) (5.3.3)\n",
            "Requirement already satisfied: pyasn1-modules>=0.2.1 in /usr/local/lib/python3.10/dist-packages (from google-auth<3,>=1.6.3->tensorboard<2.16,>=2.15->tensorflow) (0.4.0)\n",
            "Requirement already satisfied: rsa<5,>=3.1.4 in /usr/local/lib/python3.10/dist-packages (from google-auth<3,>=1.6.3->tensorboard<2.16,>=2.15->tensorflow) (4.9)\n",
            "Requirement already satisfied: requests-oauthlib>=0.7.0 in /usr/local/lib/python3.10/dist-packages (from google-auth-oauthlib<2,>=0.5->tensorboard<2.16,>=2.15->tensorflow) (1.3.1)\n",
            "Requirement already satisfied: charset-normalizer<4,>=2 in /usr/local/lib/python3.10/dist-packages (from requests<3,>=2.21.0->tensorboard<2.16,>=2.15->tensorflow) (3.3.2)\n",
            "Requirement already satisfied: idna<4,>=2.5 in /usr/local/lib/python3.10/dist-packages (from requests<3,>=2.21.0->tensorboard<2.16,>=2.15->tensorflow) (3.7)\n",
            "Requirement already satisfied: urllib3<3,>=1.21.1 in /usr/local/lib/python3.10/dist-packages (from requests<3,>=2.21.0->tensorboard<2.16,>=2.15->tensorflow) (2.0.7)\n",
            "Requirement already satisfied: certifi>=2017.4.17 in /usr/local/lib/python3.10/dist-packages (from requests<3,>=2.21.0->tensorboard<2.16,>=2.15->tensorflow) (2024.6.2)\n",
            "Requirement already satisfied: MarkupSafe>=2.1.1 in /usr/local/lib/python3.10/dist-packages (from werkzeug>=1.0.1->tensorboard<2.16,>=2.15->tensorflow) (2.1.5)\n",
            "Requirement already satisfied: pyasn1<0.7.0,>=0.4.6 in /usr/local/lib/python3.10/dist-packages (from pyasn1-modules>=0.2.1->google-auth<3,>=1.6.3->tensorboard<2.16,>=2.15->tensorflow) (0.6.0)\n",
            "Requirement already satisfied: oauthlib>=3.0.0 in /usr/local/lib/python3.10/dist-packages (from requests-oauthlib>=0.7.0->google-auth-oauthlib<2,>=0.5->tensorboard<2.16,>=2.15->tensorflow) (3.2.2)\n"
          ]
        }
      ],
      "source": [
        "!pip install tensorflow"
      ]
    },
    {
      "cell_type": "code",
      "execution_count": 171,
      "metadata": {
        "colab": {
          "base_uri": "https://localhost:8080/"
        },
        "id": "oPcv8NnCHKij",
        "outputId": "6efca58c-0b4a-4251-a6e6-a8cfa991a2b2"
      },
      "outputs": [
        {
          "output_type": "stream",
          "name": "stdout",
          "text": [
            "Requirement already satisfied: keras-tuner in /usr/local/lib/python3.10/dist-packages (1.4.7)\n",
            "Requirement already satisfied: keras in /usr/local/lib/python3.10/dist-packages (from keras-tuner) (2.15.0)\n",
            "Requirement already satisfied: packaging in /usr/local/lib/python3.10/dist-packages (from keras-tuner) (24.1)\n",
            "Requirement already satisfied: requests in /usr/local/lib/python3.10/dist-packages (from keras-tuner) (2.31.0)\n",
            "Requirement already satisfied: kt-legacy in /usr/local/lib/python3.10/dist-packages (from keras-tuner) (1.0.5)\n",
            "Requirement already satisfied: charset-normalizer<4,>=2 in /usr/local/lib/python3.10/dist-packages (from requests->keras-tuner) (3.3.2)\n",
            "Requirement already satisfied: idna<4,>=2.5 in /usr/local/lib/python3.10/dist-packages (from requests->keras-tuner) (3.7)\n",
            "Requirement already satisfied: urllib3<3,>=1.21.1 in /usr/local/lib/python3.10/dist-packages (from requests->keras-tuner) (2.0.7)\n",
            "Requirement already satisfied: certifi>=2017.4.17 in /usr/local/lib/python3.10/dist-packages (from requests->keras-tuner) (2024.6.2)\n"
          ]
        }
      ],
      "source": [
        "!pip install -U keras-tuner"
      ]
    },
    {
      "cell_type": "code",
      "execution_count": 172,
      "metadata": {
        "id": "kUtLfQKXEwUz"
      },
      "outputs": [],
      "source": [
        "from sklearn.model_selection import GridSearchCV\n",
        "import keras_tuner as kt\n"
      ]
    },
    {
      "cell_type": "code",
      "execution_count": 173,
      "metadata": {
        "id": "e8b66583"
      },
      "outputs": [],
      "source": [
        "# tuning for optimizer(adam,rmsprop or sgd:stochastic gradient descent) only\n",
        "def optimizer_selection(hp):\n",
        "    #create instance of sequential class\n",
        "    model = Sequential()\n",
        "    #Add hidden layer\n",
        "    model.add(Dense(units=10, activation='relu'))\n",
        "    #Add output layer\n",
        "    model.add(Dense(units=1, activation='sigmoid'))\n",
        "    #Optimizer selection\n",
        "    optim = hp.Choice('optimizer', values = ['sgd','adam','rmsprop']) #value of optimizer is categorical so use choice()function else use hp.Int()\n",
        "    model.compile(optimizer=optim, loss = 'binary_crossentropy', metrics = 'accuracy')\n",
        "    return model"
      ]
    },
    {
      "cell_type": "code",
      "execution_count": 174,
      "metadata": {
        "colab": {
          "base_uri": "https://localhost:8080/"
        },
        "id": "EEVsyR87G8Xw",
        "outputId": "7d779af0-442f-4157-da4a-e1abd28a1c61"
      },
      "outputs": [
        {
          "output_type": "stream",
          "name": "stdout",
          "text": [
            "Reloading Tuner from ./untitled_project/tuner0.json\n"
          ]
        }
      ],
      "source": [
        "# similar to GridSearchCV() we will use here RandomSearch()\n",
        "tuner = kt.RandomSearch(\n",
        "    optimizer_selection,# model name-here Sequential() class is our model\n",
        "    objective='val_accuracy', # increase accuracy of test data i.e. validation test accuracy\n",
        "    max_trials=3 # for each optimizer take 3 trials, can select 3 to 10\n",
        ")"
      ]
    },
    {
      "cell_type": "code",
      "execution_count": 175,
      "metadata": {
        "id": "zl71MjevK__8"
      },
      "outputs": [],
      "source": [
        "tuner.search(X_train,y_train, epochs = 3, validation_data = (X_test,y_test))"
      ]
    },
    {
      "cell_type": "code",
      "execution_count": 176,
      "metadata": {
        "colab": {
          "base_uri": "https://localhost:8080/"
        },
        "id": "SIdjEIRdLAC1",
        "outputId": "abcc1af5-141a-4b01-d590-9aea1cdc0a21"
      },
      "outputs": [
        {
          "output_type": "execute_result",
          "data": {
            "text/plain": [
              "{'optimizer': 'adam'}"
            ]
          },
          "metadata": {},
          "execution_count": 176
        }
      ],
      "source": [
        "tuner.get_best_hyperparameters()[0].values"
      ]
    },
    {
      "cell_type": "code",
      "execution_count": 177,
      "metadata": {
        "id": "D0zcqbArLAFo",
        "colab": {
          "base_uri": "https://localhost:8080/"
        },
        "outputId": "cfca4c8e-19af-40ee-d968-a962de408898"
      },
      "outputs": [
        {
          "output_type": "stream",
          "name": "stdout",
          "text": [
            "Epoch 1/100\n",
            "500/500 [==============================] - 5s 8ms/step - loss: -461.3973 - accuracy: 0.0383 - val_loss: -811.9922 - val_accuracy: 0.0382\n",
            "Epoch 2/100\n",
            "500/500 [==============================] - 4s 9ms/step - loss: -1208.2778 - accuracy: 0.0383 - val_loss: -1757.4617 - val_accuracy: 0.0382\n",
            "Epoch 3/100\n",
            "500/500 [==============================] - 3s 6ms/step - loss: -2262.5642 - accuracy: 0.0383 - val_loss: -2999.8538 - val_accuracy: 0.0382\n",
            "Epoch 4/100\n",
            "500/500 [==============================] - 3s 7ms/step - loss: -3578.2720 - accuracy: 0.0383 - val_loss: -4494.4795 - val_accuracy: 0.0382\n",
            "Epoch 5/100\n",
            "500/500 [==============================] - 6s 11ms/step - loss: -5129.0776 - accuracy: 0.0383 - val_loss: -6224.0742 - val_accuracy: 0.0382\n",
            "Epoch 6/100\n",
            "500/500 [==============================] - 4s 8ms/step - loss: -6902.5083 - accuracy: 0.0383 - val_loss: -8180.8779 - val_accuracy: 0.0382\n",
            "Epoch 7/100\n",
            "500/500 [==============================] - 4s 8ms/step - loss: -8883.5332 - accuracy: 0.0383 - val_loss: -10341.5254 - val_accuracy: 0.0382\n",
            "Epoch 8/100\n",
            "500/500 [==============================] - 3s 7ms/step - loss: -11063.5693 - accuracy: 0.0383 - val_loss: -12707.5801 - val_accuracy: 0.0382\n",
            "Epoch 9/100\n",
            "500/500 [==============================] - 3s 5ms/step - loss: -13432.7812 - accuracy: 0.0383 - val_loss: -15267.6201 - val_accuracy: 0.0382\n",
            "Epoch 10/100\n",
            "500/500 [==============================] - 1s 3ms/step - loss: -15987.4580 - accuracy: 0.0383 - val_loss: -18021.3457 - val_accuracy: 0.0382\n",
            "Epoch 11/100\n",
            "500/500 [==============================] - 1s 2ms/step - loss: -18720.7031 - accuracy: 0.0383 - val_loss: -20959.1855 - val_accuracy: 0.0382\n",
            "Epoch 12/100\n",
            "500/500 [==============================] - 1s 2ms/step - loss: -21630.9082 - accuracy: 0.0383 - val_loss: -24076.7988 - val_accuracy: 0.0382\n",
            "Epoch 13/100\n",
            "500/500 [==============================] - 1s 2ms/step - loss: -24717.5312 - accuracy: 0.0383 - val_loss: -27372.0801 - val_accuracy: 0.0382\n",
            "Epoch 14/100\n",
            "500/500 [==============================] - 1s 3ms/step - loss: -27980.1543 - accuracy: 0.0383 - val_loss: -30861.9023 - val_accuracy: 0.0382\n",
            "Epoch 15/100\n",
            "500/500 [==============================] - 1s 3ms/step - loss: -31421.9766 - accuracy: 0.0383 - val_loss: -34534.0156 - val_accuracy: 0.0382\n",
            "Epoch 16/100\n",
            "500/500 [==============================] - 1s 3ms/step - loss: -35033.5859 - accuracy: 0.0383 - val_loss: -38377.9219 - val_accuracy: 0.0382\n",
            "Epoch 17/100\n",
            "500/500 [==============================] - 2s 4ms/step - loss: -38815.1680 - accuracy: 0.0383 - val_loss: -42400.4766 - val_accuracy: 0.0382\n",
            "Epoch 18/100\n",
            "500/500 [==============================] - 2s 4ms/step - loss: -42776.3672 - accuracy: 0.0383 - val_loss: -46610.3906 - val_accuracy: 0.0382\n",
            "Epoch 19/100\n",
            "500/500 [==============================] - 1s 3ms/step - loss: -46906.3945 - accuracy: 0.0383 - val_loss: -50987.7773 - val_accuracy: 0.0382\n",
            "Epoch 20/100\n",
            "500/500 [==============================] - 1s 3ms/step - loss: -51201.9023 - accuracy: 0.0383 - val_loss: -55541.4219 - val_accuracy: 0.0382\n",
            "Epoch 21/100\n",
            "500/500 [==============================] - 1s 3ms/step - loss: -55670.3945 - accuracy: 0.0383 - val_loss: -60285.9258 - val_accuracy: 0.0382\n",
            "Epoch 22/100\n",
            "500/500 [==============================] - 1s 3ms/step - loss: -60313.3047 - accuracy: 0.0383 - val_loss: -65206.8594 - val_accuracy: 0.0382\n",
            "Epoch 23/100\n",
            "500/500 [==============================] - 1s 3ms/step - loss: -65116.8320 - accuracy: 0.0383 - val_loss: -70284.2578 - val_accuracy: 0.0382\n",
            "Epoch 24/100\n",
            "500/500 [==============================] - 1s 3ms/step - loss: -70082.3906 - accuracy: 0.0383 - val_loss: -75537.1172 - val_accuracy: 0.0382\n",
            "Epoch 25/100\n",
            "500/500 [==============================] - 1s 3ms/step - loss: -75216.2188 - accuracy: 0.0383 - val_loss: -80957.0312 - val_accuracy: 0.0382\n",
            "Epoch 26/100\n",
            "500/500 [==============================] - 2s 4ms/step - loss: -80513.7656 - accuracy: 0.0383 - val_loss: -86546.7578 - val_accuracy: 0.0382\n",
            "Epoch 27/100\n",
            "500/500 [==============================] - 2s 4ms/step - loss: -85972.7969 - accuracy: 0.0383 - val_loss: -92318.7109 - val_accuracy: 0.0382\n",
            "Epoch 28/100\n",
            "500/500 [==============================] - 1s 3ms/step - loss: -91615.8984 - accuracy: 0.0383 - val_loss: -98277.7266 - val_accuracy: 0.0382\n",
            "Epoch 29/100\n",
            "500/500 [==============================] - 1s 2ms/step - loss: -97441.1094 - accuracy: 0.0383 - val_loss: -104430.2812 - val_accuracy: 0.0382\n",
            "Epoch 30/100\n",
            "500/500 [==============================] - 2s 4ms/step - loss: -103440.6406 - accuracy: 0.0383 - val_loss: -110759.7969 - val_accuracy: 0.0382\n",
            "Epoch 31/100\n",
            "500/500 [==============================] - 2s 5ms/step - loss: -109610.0234 - accuracy: 0.0383 - val_loss: -117257.0859 - val_accuracy: 0.0382\n",
            "Epoch 32/100\n",
            "500/500 [==============================] - 1s 3ms/step - loss: -115942.3750 - accuracy: 0.0383 - val_loss: -123926.5859 - val_accuracy: 0.0382\n",
            "Epoch 33/100\n",
            "500/500 [==============================] - 1s 2ms/step - loss: -122444.5469 - accuracy: 0.0383 - val_loss: -130775.8438 - val_accuracy: 0.0382\n",
            "Epoch 34/100\n",
            "500/500 [==============================] - 2s 4ms/step - loss: -129103.9844 - accuracy: 0.0383 - val_loss: -137791.2656 - val_accuracy: 0.0382\n",
            "Epoch 35/100\n",
            "500/500 [==============================] - 3s 6ms/step - loss: -135927.2812 - accuracy: 0.0383 - val_loss: -144978.4219 - val_accuracy: 0.0382\n",
            "Epoch 36/100\n",
            "500/500 [==============================] - 3s 6ms/step - loss: -142922.2188 - accuracy: 0.0383 - val_loss: -152329.7500 - val_accuracy: 0.0382\n",
            "Epoch 37/100\n",
            "500/500 [==============================] - 2s 4ms/step - loss: -150086.1250 - accuracy: 0.0383 - val_loss: -159877.6562 - val_accuracy: 0.0382\n",
            "Epoch 38/100\n",
            "500/500 [==============================] - 1s 2ms/step - loss: -157409.1562 - accuracy: 0.0383 - val_loss: -167577.9531 - val_accuracy: 0.0382\n",
            "Epoch 39/100\n",
            "500/500 [==============================] - 1s 3ms/step - loss: -164909.8281 - accuracy: 0.0383 - val_loss: -175461.2969 - val_accuracy: 0.0382\n",
            "Epoch 40/100\n",
            "500/500 [==============================] - 1s 3ms/step - loss: -172580.5781 - accuracy: 0.0383 - val_loss: -183521.1250 - val_accuracy: 0.0382\n",
            "Epoch 41/100\n",
            "500/500 [==============================] - 1s 3ms/step - loss: -180392.0469 - accuracy: 0.0383 - val_loss: -191721.0625 - val_accuracy: 0.0382\n",
            "Epoch 42/100\n",
            "500/500 [==============================] - 2s 3ms/step - loss: -188370.0000 - accuracy: 0.0383 - val_loss: -200121.9375 - val_accuracy: 0.0382\n",
            "Epoch 43/100\n",
            "500/500 [==============================] - 2s 5ms/step - loss: -196521.0469 - accuracy: 0.0383 - val_loss: -208668.5625 - val_accuracy: 0.0382\n",
            "Epoch 44/100\n",
            "500/500 [==============================] - 2s 4ms/step - loss: -204824.3750 - accuracy: 0.0383 - val_loss: -217384.4219 - val_accuracy: 0.0382\n",
            "Epoch 45/100\n",
            "500/500 [==============================] - 1s 3ms/step - loss: -213293.0312 - accuracy: 0.0383 - val_loss: -226286.0312 - val_accuracy: 0.0382\n",
            "Epoch 46/100\n",
            "500/500 [==============================] - 2s 3ms/step - loss: -221936.2344 - accuracy: 0.0383 - val_loss: -235360.2500 - val_accuracy: 0.0382\n",
            "Epoch 47/100\n",
            "500/500 [==============================] - 1s 3ms/step - loss: -230734.9062 - accuracy: 0.0383 - val_loss: -244596.2188 - val_accuracy: 0.0382\n",
            "Epoch 48/100\n",
            "500/500 [==============================] - 1s 2ms/step - loss: -239689.3438 - accuracy: 0.0383 - val_loss: -253984.1562 - val_accuracy: 0.0382\n",
            "Epoch 49/100\n",
            "500/500 [==============================] - 1s 3ms/step - loss: -248812.2188 - accuracy: 0.0383 - val_loss: -263552.6875 - val_accuracy: 0.0382\n",
            "Epoch 50/100\n",
            "500/500 [==============================] - 1s 2ms/step - loss: -258094.5156 - accuracy: 0.0383 - val_loss: -273277.0000 - val_accuracy: 0.0382\n",
            "Epoch 51/100\n",
            "500/500 [==============================] - 1s 3ms/step - loss: -267549.7500 - accuracy: 0.0383 - val_loss: -283214.5938 - val_accuracy: 0.0382\n",
            "Epoch 52/100\n",
            "500/500 [==============================] - 2s 4ms/step - loss: -277169.6562 - accuracy: 0.0383 - val_loss: -293306.9688 - val_accuracy: 0.0382\n",
            "Epoch 53/100\n",
            "500/500 [==============================] - 2s 4ms/step - loss: -286949.2500 - accuracy: 0.0383 - val_loss: -303553.4062 - val_accuracy: 0.0382\n",
            "Epoch 54/100\n",
            "500/500 [==============================] - 1s 3ms/step - loss: -296877.0625 - accuracy: 0.0383 - val_loss: -313964.2812 - val_accuracy: 0.0382\n",
            "Epoch 55/100\n",
            "500/500 [==============================] - 1s 2ms/step - loss: -306972.9688 - accuracy: 0.0383 - val_loss: -324557.2188 - val_accuracy: 0.0382\n",
            "Epoch 56/100\n",
            "500/500 [==============================] - 1s 3ms/step - loss: -317238.9375 - accuracy: 0.0383 - val_loss: -335309.9688 - val_accuracy: 0.0382\n",
            "Epoch 57/100\n",
            "500/500 [==============================] - 1s 2ms/step - loss: -327664.0000 - accuracy: 0.0383 - val_loss: -346232.2812 - val_accuracy: 0.0382\n",
            "Epoch 58/100\n",
            "500/500 [==============================] - 1s 3ms/step - loss: -338261.9062 - accuracy: 0.0383 - val_loss: -357343.0625 - val_accuracy: 0.0382\n",
            "Epoch 59/100\n",
            "500/500 [==============================] - 2s 4ms/step - loss: -349017.0625 - accuracy: 0.0383 - val_loss: -368619.4375 - val_accuracy: 0.0382\n",
            "Epoch 60/100\n",
            "500/500 [==============================] - 1s 3ms/step - loss: -359948.0625 - accuracy: 0.0383 - val_loss: -380092.5938 - val_accuracy: 0.0382\n",
            "Epoch 61/100\n",
            "500/500 [==============================] - 2s 4ms/step - loss: -371066.1562 - accuracy: 0.0383 - val_loss: -391710.6875 - val_accuracy: 0.0382\n",
            "Epoch 62/100\n",
            "500/500 [==============================] - 2s 4ms/step - loss: -382333.4688 - accuracy: 0.0383 - val_loss: -403503.9375 - val_accuracy: 0.0382\n",
            "Epoch 63/100\n",
            "500/500 [==============================] - 1s 3ms/step - loss: -393773.3438 - accuracy: 0.0383 - val_loss: -415531.0000 - val_accuracy: 0.0382\n",
            "Epoch 64/100\n",
            "500/500 [==============================] - 1s 3ms/step - loss: -405375.2188 - accuracy: 0.0383 - val_loss: -427652.2188 - val_accuracy: 0.0382\n",
            "Epoch 65/100\n",
            "500/500 [==============================] - 1s 3ms/step - loss: -417129.9375 - accuracy: 0.0383 - val_loss: -439968.3125 - val_accuracy: 0.0382\n",
            "Epoch 66/100\n",
            "500/500 [==============================] - 1s 3ms/step - loss: -429054.5625 - accuracy: 0.0383 - val_loss: -452458.5938 - val_accuracy: 0.0382\n",
            "Epoch 67/100\n",
            "500/500 [==============================] - 1s 2ms/step - loss: -441145.7500 - accuracy: 0.0383 - val_loss: -465098.6250 - val_accuracy: 0.0382\n",
            "Epoch 68/100\n",
            "500/500 [==============================] - 1s 2ms/step - loss: -453395.6875 - accuracy: 0.0383 - val_loss: -477947.2812 - val_accuracy: 0.0382\n",
            "Epoch 69/100\n",
            "500/500 [==============================] - 1s 3ms/step - loss: -465825.8750 - accuracy: 0.0383 - val_loss: -490948.7188 - val_accuracy: 0.0382\n",
            "Epoch 70/100\n",
            "500/500 [==============================] - 2s 4ms/step - loss: -478395.8750 - accuracy: 0.0383 - val_loss: -504085.6562 - val_accuracy: 0.0382\n",
            "Epoch 71/100\n",
            "500/500 [==============================] - 2s 4ms/step - loss: -491127.1875 - accuracy: 0.0383 - val_loss: -517429.7812 - val_accuracy: 0.0382\n",
            "Epoch 72/100\n",
            "500/500 [==============================] - 1s 2ms/step - loss: -504017.3750 - accuracy: 0.0383 - val_loss: -530905.0625 - val_accuracy: 0.0382\n",
            "Epoch 73/100\n",
            "500/500 [==============================] - 1s 3ms/step - loss: -517080.9688 - accuracy: 0.0383 - val_loss: -544566.1250 - val_accuracy: 0.0382\n",
            "Epoch 74/100\n",
            "500/500 [==============================] - 1s 2ms/step - loss: -530310.8125 - accuracy: 0.0383 - val_loss: -558417.7500 - val_accuracy: 0.0382\n",
            "Epoch 75/100\n",
            "500/500 [==============================] - 1s 3ms/step - loss: -543694.3125 - accuracy: 0.0383 - val_loss: -572414.1250 - val_accuracy: 0.0382\n",
            "Epoch 76/100\n",
            "500/500 [==============================] - 1s 3ms/step - loss: -557218.5000 - accuracy: 0.0383 - val_loss: -586579.0625 - val_accuracy: 0.0382\n",
            "Epoch 77/100\n",
            "500/500 [==============================] - 1s 3ms/step - loss: -570921.8125 - accuracy: 0.0383 - val_loss: -600929.4375 - val_accuracy: 0.0382\n",
            "Epoch 78/100\n",
            "500/500 [==============================] - 1s 3ms/step - loss: -584787.6250 - accuracy: 0.0383 - val_loss: -615420.8125 - val_accuracy: 0.0382\n",
            "Epoch 79/100\n",
            "500/500 [==============================] - 2s 4ms/step - loss: -598820.9375 - accuracy: 0.0383 - val_loss: -630112.8125 - val_accuracy: 0.0382\n",
            "Epoch 80/100\n",
            "500/500 [==============================] - 2s 4ms/step - loss: -613016.6875 - accuracy: 0.0383 - val_loss: -644956.9375 - val_accuracy: 0.0382\n",
            "Epoch 81/100\n",
            "500/500 [==============================] - 1s 3ms/step - loss: -627381.7500 - accuracy: 0.0383 - val_loss: -659973.6875 - val_accuracy: 0.0382\n",
            "Epoch 82/100\n",
            "500/500 [==============================] - 1s 2ms/step - loss: -641903.7500 - accuracy: 0.0383 - val_loss: -675160.1250 - val_accuracy: 0.0382\n",
            "Epoch 83/100\n",
            "500/500 [==============================] - 1s 3ms/step - loss: -656578.2500 - accuracy: 0.0383 - val_loss: -690510.5625 - val_accuracy: 0.0382\n",
            "Epoch 84/100\n",
            "500/500 [==============================] - 1s 2ms/step - loss: -671424.3750 - accuracy: 0.0383 - val_loss: -706012.3125 - val_accuracy: 0.0382\n",
            "Epoch 85/100\n",
            "500/500 [==============================] - 1s 3ms/step - loss: -686414.7500 - accuracy: 0.0383 - val_loss: -721682.9375 - val_accuracy: 0.0382\n",
            "Epoch 86/100\n",
            "500/500 [==============================] - 1s 2ms/step - loss: -701570.0625 - accuracy: 0.0383 - val_loss: -737542.1250 - val_accuracy: 0.0382\n",
            "Epoch 87/100\n",
            "500/500 [==============================] - 1s 3ms/step - loss: -716939.5625 - accuracy: 0.0383 - val_loss: -753624.3125 - val_accuracy: 0.0382\n",
            "Epoch 88/100\n",
            "500/500 [==============================] - 2s 4ms/step - loss: -732443.4375 - accuracy: 0.0383 - val_loss: -769802.1875 - val_accuracy: 0.0382\n",
            "Epoch 89/100\n",
            "500/500 [==============================] - 2s 5ms/step - loss: -748073.5000 - accuracy: 0.0383 - val_loss: -786169.8750 - val_accuracy: 0.0382\n",
            "Epoch 90/100\n",
            "500/500 [==============================] - 2s 3ms/step - loss: -763879.5625 - accuracy: 0.0383 - val_loss: -802681.6250 - val_accuracy: 0.0382\n",
            "Epoch 91/100\n",
            "500/500 [==============================] - 1s 3ms/step - loss: -779830.5000 - accuracy: 0.0383 - val_loss: -819346.8750 - val_accuracy: 0.0382\n",
            "Epoch 92/100\n",
            "500/500 [==============================] - 1s 3ms/step - loss: -795968.0625 - accuracy: 0.0383 - val_loss: -836200.2500 - val_accuracy: 0.0382\n",
            "Epoch 93/100\n",
            "500/500 [==============================] - 1s 2ms/step - loss: -812288.5000 - accuracy: 0.0383 - val_loss: -853251.1875 - val_accuracy: 0.0382\n",
            "Epoch 94/100\n",
            "500/500 [==============================] - 1s 3ms/step - loss: -828759.8125 - accuracy: 0.0383 - val_loss: -870491.6875 - val_accuracy: 0.0382\n",
            "Epoch 95/100\n",
            "500/500 [==============================] - 1s 3ms/step - loss: -845342.8125 - accuracy: 0.0383 - val_loss: -887785.7500 - val_accuracy: 0.0382\n",
            "Epoch 96/100\n",
            "500/500 [==============================] - 1s 3ms/step - loss: -862097.9375 - accuracy: 0.0383 - val_loss: -905269.5000 - val_accuracy: 0.0382\n",
            "Epoch 97/100\n",
            "500/500 [==============================] - 2s 3ms/step - loss: -879004.7500 - accuracy: 0.0383 - val_loss: -922948.3750 - val_accuracy: 0.0382\n",
            "Epoch 98/100\n",
            "500/500 [==============================] - 2s 4ms/step - loss: -896084.3750 - accuracy: 0.0383 - val_loss: -940792.6875 - val_accuracy: 0.0382\n",
            "Epoch 99/100\n",
            "500/500 [==============================] - 2s 4ms/step - loss: -913336.1875 - accuracy: 0.0383 - val_loss: -958826.8125 - val_accuracy: 0.0382\n",
            "Epoch 100/100\n",
            "500/500 [==============================] - 1s 3ms/step - loss: -930773.1875 - accuracy: 0.0383 - val_loss: -977072.8125 - val_accuracy: 0.0382\n"
          ]
        },
        {
          "output_type": "execute_result",
          "data": {
            "text/plain": [
              "<keras.src.callbacks.History at 0x7b1eba2de830>"
            ]
          },
          "metadata": {},
          "execution_count": 177
        }
      ],
      "source": [
        "model = tuner.get_best_models(num_models=1)[0] # get best model: rmsprop\n",
        "model.fit(X_train,y_train, epochs = 100, validation_data = (X_test,y_test))"
      ]
    },
    {
      "cell_type": "code",
      "execution_count": 178,
      "metadata": {
        "id": "9C-nBQKoLhpZ",
        "colab": {
          "base_uri": "https://localhost:8080/"
        },
        "outputId": "4077567b-7546-4205-d86c-8a23f4306099"
      },
      "outputs": [
        {
          "output_type": "stream",
          "name": "stdout",
          "text": [
            "500/500 [==============================] - 1s 2ms/step - loss: -939571.5000 - accuracy: 0.0383\n"
          ]
        },
        {
          "output_type": "execute_result",
          "data": {
            "text/plain": [
              "[-939571.5, 0.03831249848008156]"
            ]
          },
          "metadata": {},
          "execution_count": 178
        }
      ],
      "source": [
        "model.evaluate(X_train,y_train)"
      ]
    },
    {
      "cell_type": "markdown",
      "metadata": {
        "id": "AXPR62W6MSFx"
      },
      "source": [
        "# Evaluation"
      ]
    },
    {
      "cell_type": "code",
      "execution_count": 180,
      "metadata": {
        "id": "bz6sR_olLhsW",
        "colab": {
          "base_uri": "https://localhost:8080/"
        },
        "outputId": "f2f66514-5c0a-44c2-987e-ba4e7c2a2a5b"
      },
      "outputs": [
        {
          "output_type": "stream",
          "name": "stdout",
          "text": [
            "125/125 [==============================] - 0s 1ms/step\n"
          ]
        }
      ],
      "source": [
        "from sklearn.metrics import accuracy_score, precision_score, recall_score, f1_score\n",
        "\n",
        "# Predict the labels on the test set\n",
        "y_pred = model.predict(X_test)\n"
      ]
    },
    {
      "cell_type": "code",
      "execution_count": 181,
      "metadata": {
        "id": "8ueMC65aMXiz"
      },
      "outputs": [],
      "source": [
        "# Calculate evaluation metrics\n",
        "accuracy = accuracy_score(y_test, y_pred)\n",
        "precision = precision_score(y_test, y_pred, average='weighted')\n",
        "recall = recall_score(y_test, y_pred, average='weighted')\n",
        "f1 = f1_score(y_test, y_pred, average='weighted')\n"
      ]
    },
    {
      "cell_type": "code",
      "execution_count": 182,
      "metadata": {
        "id": "WyGOHbR9MXok",
        "colab": {
          "base_uri": "https://localhost:8080/"
        },
        "outputId": "bd030aab-967d-4a22-bb20-eadb133b144e"
      },
      "outputs": [
        {
          "output_type": "stream",
          "name": "stdout",
          "text": [
            "Accuracy: 0.03825\n",
            "Precision: 0.0014630625\n",
            "Recall: 0.03825\n",
            "F1-score: 0.0028183241030580305\n"
          ]
        }
      ],
      "source": [
        "print(f'Accuracy: {accuracy}')\n",
        "print(f'Precision: {precision}')\n",
        "print(f'Recall: {recall}')\n",
        "print(f'F1-score: {f1}')"
      ]
    },
    {
      "cell_type": "code",
      "execution_count": null,
      "metadata": {
        "id": "hLl1t6JBMXtN"
      },
      "outputs": [],
      "source": []
    }
  ],
  "metadata": {
    "colab": {
      "provenance": []
    },
    "kernelspec": {
      "display_name": "Python 3",
      "name": "python3"
    },
    "language_info": {
      "name": "python"
    }
  },
  "nbformat": 4,
  "nbformat_minor": 0
}