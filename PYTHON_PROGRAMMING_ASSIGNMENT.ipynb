{
  "nbformat": 4,
  "nbformat_minor": 0,
  "metadata": {
    "colab": {
      "provenance": []
    },
    "kernelspec": {
      "name": "python3",
      "display_name": "Python 3"
    },
    "language_info": {
      "name": "python"
    }
  },
  "cells": [
    {
      "cell_type": "code",
      "execution_count": 1,
      "metadata": {
        "colab": {
          "base_uri": "https://localhost:8080/"
        },
        "collapsed": true,
        "id": "EKBhHUibJ7ak",
        "outputId": "b7987e40-43d3-494a-9eff-8a16748354b0"
      },
      "outputs": [
        {
          "output_type": "stream",
          "name": "stdout",
          "text": [
            "Enter a number to check if it is prime: 5\n",
            "5 is a prime number.\n"
          ]
        }
      ],
      "source": [
        "# Coding Exercises\n",
        "\n",
        "# Exercise 1: Prime Numbers\n",
        "# Write a Python program that checks whether a given number is prime or not. A prime number is a natural number greater than 1 that has no positive divisors other than 1 and itself.\n",
        "\n",
        "def is_prime(n):\n",
        "    \"\"\"Check if a number is prime.\"\"\"\n",
        "    if n <= 1:\n",
        "        return False\n",
        "    if n <= 3:\n",
        "        return True\n",
        "    if n % 2 == 0 or n % 3 == 0:\n",
        "        return False\n",
        "    i = 5\n",
        "    while i * i <= n:\n",
        "        if n % i == 0 or n % (i + 2) == 0:\n",
        "            return False\n",
        "        i += 6\n",
        "    return True\n",
        "\n",
        "# Test the function with a number\n",
        "number = int(input(\"Enter a number to check if it is prime: \"))\n",
        "if is_prime(number):\n",
        "    print(f\"{number} is a prime number.\")\n",
        "else:\n",
        "    print(f\"{number} is not a prime number.\")\n",
        "\n"
      ]
    },
    {
      "cell_type": "code",
      "source": [
        "# Exercise 2: Product of Random Numbers\n",
        "# Develop a Python program that generates two random numbers and asks the user to enter the product of these numbers. The program should then check if the user's answer is correct and display an appropriate message.\n",
        "\n",
        "import random\n",
        "\n",
        "def generate_random_numbers():\n",
        "    \"\"\"Generate two random numbers.\"\"\"\n",
        "    num1 = random.randint(1, 100)\n",
        "    num2 = random.randint(1, 100)\n",
        "    return num1, num2\n",
        "\n",
        "def main():\n",
        "    num1, num2 = generate_random_numbers()\n",
        "    correct_product = num1 * num2\n",
        "\n",
        "    print(f\"Calculate the product of the following numbers: {num1} and {num2}\")\n",
        "    user_answer = int(input(\"Enter your answer: \"))\n",
        "\n",
        "    if user_answer == correct_product:\n",
        "        print(\"Correct! Well done.\")\n",
        "    else:\n",
        "        print(f\"Incorrect. The correct answer is {correct_product}.\")\n",
        "\n",
        "if __name__ == \"__main__\":\n",
        "    main()\n"
      ],
      "metadata": {
        "colab": {
          "base_uri": "https://localhost:8080/"
        },
        "id": "OCtUj2lPLQbv",
        "outputId": "28c8bd8e-5fe9-492f-df97-e3b2d5ade27a"
      },
      "execution_count": 3,
      "outputs": [
        {
          "output_type": "stream",
          "name": "stdout",
          "text": [
            "Calculate the product of the following numbers: 78 and 56\n",
            "Enter your answer: 2334\n",
            "Incorrect. The correct answer is 4368.\n"
          ]
        }
      ]
    },
    {
      "cell_type": "code",
      "source": [
        "# Exercise 3: Squares of Even/Odd Numbers\n",
        "# Create a Python script that prints the squares of all even or odd numbers within the range of 100 to 200. Choose either even or odd numbers and document your choice in the code.\n",
        "\n",
        "def print_squares_of_evens(start, end):\n",
        "    \"\"\"Print the squares of all even numbers within the given range.\"\"\"\n",
        "    for number in range(start, end + 1):\n",
        "        if number % 2 == 0:\n",
        "            print(f\"The square of {number} is {number ** 2}\")\n",
        "\n",
        "# Range of numbers from 100 to 200\n",
        "start = 100\n",
        "end = 200\n",
        "\n",
        "# Calling the function to print squares of even numbers\n",
        "print_squares_of_evens(start, end)\n",
        "\n",
        "\n",
        "# If you want to print the squares of odd numbers instead, you can modify the condition inside the loop as follows:\n",
        "\n",
        "# if number % 2 != 0:\n",
        "\n",
        "\n"
      ],
      "metadata": {
        "colab": {
          "base_uri": "https://localhost:8080/"
        },
        "collapsed": true,
        "id": "vju5ux-0My2U",
        "outputId": "36df81eb-de0c-4d98-c596-d0a1cbaea14e"
      },
      "execution_count": 4,
      "outputs": [
        {
          "output_type": "stream",
          "name": "stdout",
          "text": [
            "The square of 100 is 10000\n",
            "The square of 102 is 10404\n",
            "The square of 104 is 10816\n",
            "The square of 106 is 11236\n",
            "The square of 108 is 11664\n",
            "The square of 110 is 12100\n",
            "The square of 112 is 12544\n",
            "The square of 114 is 12996\n",
            "The square of 116 is 13456\n",
            "The square of 118 is 13924\n",
            "The square of 120 is 14400\n",
            "The square of 122 is 14884\n",
            "The square of 124 is 15376\n",
            "The square of 126 is 15876\n",
            "The square of 128 is 16384\n",
            "The square of 130 is 16900\n",
            "The square of 132 is 17424\n",
            "The square of 134 is 17956\n",
            "The square of 136 is 18496\n",
            "The square of 138 is 19044\n",
            "The square of 140 is 19600\n",
            "The square of 142 is 20164\n",
            "The square of 144 is 20736\n",
            "The square of 146 is 21316\n",
            "The square of 148 is 21904\n",
            "The square of 150 is 22500\n",
            "The square of 152 is 23104\n",
            "The square of 154 is 23716\n",
            "The square of 156 is 24336\n",
            "The square of 158 is 24964\n",
            "The square of 160 is 25600\n",
            "The square of 162 is 26244\n",
            "The square of 164 is 26896\n",
            "The square of 166 is 27556\n",
            "The square of 168 is 28224\n",
            "The square of 170 is 28900\n",
            "The square of 172 is 29584\n",
            "The square of 174 is 30276\n",
            "The square of 176 is 30976\n",
            "The square of 178 is 31684\n",
            "The square of 180 is 32400\n",
            "The square of 182 is 33124\n",
            "The square of 184 is 33856\n",
            "The square of 186 is 34596\n",
            "The square of 188 is 35344\n",
            "The square of 190 is 36100\n",
            "The square of 192 is 36864\n",
            "The square of 194 is 37636\n",
            "The square of 196 is 38416\n",
            "The square of 198 is 39204\n",
            "The square of 200 is 40000\n"
          ]
        }
      ]
    },
    {
      "cell_type": "code",
      "source": [
        "# Exercise 4: Word counter\n",
        "# write a program to count the number of words in a given text.\n",
        "\"\"\"example:\n",
        "input_text = \"This is a sample text. This text will be used to demonstrate the word counter.\"\n",
        "Expected output:\n",
        "'This': 2\n",
        "'is': 1\n",
        "'a': 1\n",
        "'sample': 1\n",
        "'text.': 1\n",
        "\"\"\"\n",
        "\n",
        "def word_counter(input_text):\n",
        "    \"\"\"Count the number of occurrences of each word in the given text.\"\"\"\n",
        "    # Split the text into words\n",
        "    words = input_text.split()\n",
        "\n",
        "    # Create a dictionary to store word counts\n",
        "    word_counts = {}\n",
        "\n",
        "    # Count occurrences of each word\n",
        "    for word in words:\n",
        "        # Convert word to lower case to make counting case-insensitive\n",
        "        word = word.lower()\n",
        "        if word in word_counts:\n",
        "            word_counts[word] += 1\n",
        "        else:\n",
        "            word_counts[word] = 1\n",
        "\n",
        "    # Print the word counts\n",
        "    for word, count in word_counts.items():\n",
        "        print(f\"'{word}': {count}\")\n",
        "\n",
        "# Example input text\n",
        "input_text = \"This is a sample text. This text will be used to demonstrate the word counter.\"\n",
        "\n",
        "# Call the function with the input text\n",
        "word_counter(input_text)\n",
        "\n",
        "\n"
      ],
      "metadata": {
        "colab": {
          "base_uri": "https://localhost:8080/"
        },
        "id": "Vk4NlOUPPR4e",
        "outputId": "58a36bf6-0e10-4e92-88a1-9efd3a64d313"
      },
      "execution_count": 5,
      "outputs": [
        {
          "output_type": "stream",
          "name": "stdout",
          "text": [
            "'this': 2\n",
            "'is': 1\n",
            "'a': 1\n",
            "'sample': 1\n",
            "'text.': 1\n",
            "'text': 1\n",
            "'will': 1\n",
            "'be': 1\n",
            "'used': 1\n",
            "'to': 1\n",
            "'demonstrate': 1\n",
            "'the': 1\n",
            "'word': 1\n",
            "'counter.': 1\n"
          ]
        }
      ]
    },
    {
      "cell_type": "code",
      "source": [
        "#Exercise 5: Check for Palindrome\n",
        "#Write a Python function called is_palindrome that takes a string as input and returns True if the string is a palindrome, and False otherwise. A palindrome is a word, phrase, number, or other sequence of characters that reads the same forward and backward, ignoring spaces, punctuation, and capitalization.\n",
        "#Example:\n",
        "#Input: \"racecar\"\n",
        "#Expected Output: True\n",
        "\n",
        "import string\n",
        "\n",
        "def is_palindrome(input_string):\n",
        "    \"\"\"Check if a given string is a palindrome.\"\"\"\n",
        "    # Remove spaces, punctuation, and convert to lowercase\n",
        "    cleaned_string = ''.join(char.lower() for char in input_string if char.isalnum())\n",
        "\n",
        "    # Check if the cleaned string is the same forwards and backwards\n",
        "    return cleaned_string == cleaned_string[::-1]\n",
        "\n",
        "# Take input from user\n",
        "input_string = input(\"Enter a string to check if it is a palindrome: \")\n",
        "\n",
        "# Check if the input string is a palindrome\n",
        "result = is_palindrome(input_string)\n",
        "\n",
        "# Print the result\n",
        "print(f\" {result}\")\n",
        "\n",
        "\n",
        "\n"
      ],
      "metadata": {
        "colab": {
          "base_uri": "https://localhost:8080/"
        },
        "id": "Vm9bBUbfQLdR",
        "outputId": "605e64af-b105-4500-ecb5-2526cc31ebbb"
      },
      "execution_count": 12,
      "outputs": [
        {
          "output_type": "stream",
          "name": "stdout",
          "text": [
            "Enter a string to check if it is a palindrome: aba\n",
            " True\n"
          ]
        }
      ]
    }
  ]
}