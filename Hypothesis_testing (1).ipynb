{
  "nbformat": 4,
  "nbformat_minor": 0,
  "metadata": {
    "colab": {
      "provenance": []
    },
    "kernelspec": {
      "name": "python3",
      "display_name": "Python 3"
    },
    "language_info": {
      "name": "python"
    }
  },
  "cells": [
    {
      "cell_type": "code",
      "execution_count": 1,
      "metadata": {
        "colab": {
          "base_uri": "https://localhost:8080/"
        },
        "id": "4lQwdaIK8i7z",
        "outputId": "fca5d39b-418d-4726-9c92-6ec180447b4f"
      },
      "outputs": [
        {
          "output_type": "stream",
          "name": "stdout",
          "text": [
            "Test Statistic (t): -38.0\n",
            "Critical Value: 1.6448536269514722\n",
            "Decision: Fail to Reject Null Hypothesis\n",
            "Conclusion: There is not enough evidence to support the restaurant owners' claim that the weekly operating costs are higher than the model suggests.\n"
          ]
        }
      ],
      "source": [
        "#1.State the Hypotheses statement:\n",
        "\"\"\"The hypotheses for investigating the restaurant owners' claim about the increase in weekly operating costs can be stated as follows:\n",
        "\n",
        "Null Hypothesis (H0): The observed mean weekly operating costs are equal to the theoretical mean weekly operating costs as per the given cost model.\n",
        " H0:µobserved = µtheoretical\n",
        "\n",
        "Alternative Hypothesis (H1): The observed mean weekly operating costs are higher than the theoretical mean weekly operating costs as per the given cost model.\n",
        " H1: µobserved > µtheoretical\n",
        "\n",
        "Here, µobserved represents the observed mean weekly operating costs of the restaurants, and µtheoretical represents the theoretical mean weekly operating costs according to the cost model.\"\"\"\n",
        "\n",
        "\n",
        "\n",
        "import numpy as np\n",
        "from scipy.stats import norm\n",
        "\n",
        "# Given data\n",
        "sample_mean = 3050\n",
        "theoretical_mean = 1000 + 5 * 600\n",
        "std_dev = 5 * 25\n",
        "sample_size = 25\n",
        "alpha = 0.05\n",
        "\n",
        "\n",
        "# 2.Calculate the Test Statistic:\n",
        "# Calculate the test statistic (t)\n",
        "t = (sample_mean - theoretical_mean) / (std_dev / np.sqrt(sample_size))\n",
        "\n",
        "\n",
        "\n",
        "# 3.Determine the critical value\n",
        "critical_value = norm.ppf(1 - alpha)\n",
        "\n",
        "\n",
        "\n",
        "# 4.Make a decision\n",
        "if t > critical_value:\n",
        "    decision = \"Reject Null Hypothesis\"\n",
        "else:\n",
        "    decision = \"Fail to Reject Null Hypothesis\"\n",
        "\n",
        "\n",
        "\n",
        "# 5.Conclusion\n",
        "if t > critical_value:\n",
        "    conclusion = \"There is strong evidence to support the restaurant owners' claim that the weekly operating costs are higher than the model suggests.\"\n",
        "else:\n",
        "    conclusion = \"There is not enough evidence to support the restaurant owners' claim that the weekly operating costs are higher than the model suggests.\"\n",
        "\n",
        "# Output\n",
        "print(\"Test Statistic (t):\", t)\n",
        "print(\"Critical Value:\", critical_value)\n",
        "print(\"Decision:\", decision)\n",
        "print(\"Conclusion:\", conclusion)\n"
      ]
    }
  ]
}